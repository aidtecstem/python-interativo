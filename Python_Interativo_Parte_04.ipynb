{
  "nbformat": 4,
  "nbformat_minor": 0,
  "metadata": {
    "colab": {
      "name": "Python Interativo - Parte 04.ipynb",
      "provenance": [],
      "collapsed_sections": [],
      "toc_visible": true,
      "include_colab_link": true
    },
    "kernelspec": {
      "name": "python3",
      "display_name": "Python 3"
    }
  },
  "cells": [
    {
      "cell_type": "markdown",
      "metadata": {
        "id": "view-in-github",
        "colab_type": "text"
      },
      "source": [
        "<a href=\"https://colab.research.google.com/github/aidtecstem/python-interativo/blob/master/Python_Interativo_Parte_04.ipynb\" target=\"_parent\"><img src=\"https://colab.research.google.com/assets/colab-badge.svg\" alt=\"Open In Colab\"/></a>"
      ]
    },
    {
      "cell_type": "markdown",
      "metadata": {
        "id": "_xISJe1qEv28"
      },
      "source": [
        "# Python Interativo\n",
        "\n",
        "## Funções\n",
        "\n",
        "Olá. Este notebook irá guiar você no curso Python Interativo.\n",
        "\n",
        "Neste notebook, iremos aprender um pouco sobre os seguintes tópicos:\n",
        "- Criando funções;\n",
        "- Criando funções com retorno;\n",
        "- Criando funções com parâmetros;\n",
        "- Chamada de métodos;\n",
        "\n",
        "No final, deixo um desafio como tarefa."
      ]
    },
    {
      "cell_type": "markdown",
      "metadata": {
        "id": "wJnoBdB4CAzL"
      },
      "source": [
        "Funções são muito úteis no mundo da programação. Em geral, elas servem para modularizar um programa, reutilizar partes repetitivas, ou melhor a organização  do código."
      ]
    },
    {
      "cell_type": "markdown",
      "metadata": {
        "id": "jyHKcRWeByZu"
      },
      "source": [
        "Segundo [Webpedia](https://www.webopedia.com/TERM/F/function.html), __funções__ são seções nomeadas de um programa que executam tarefas específicas."
      ]
    },
    {
      "cell_type": "markdown",
      "metadata": {
        "id": "0TEgjXyWDeiq"
      },
      "source": [
        "Nós já aprendemos a utilizar várias funções *built-in* do Python. Agora vamos aprender como criar funções."
      ]
    },
    {
      "cell_type": "markdown",
      "metadata": {
        "id": "pugOW5rDQCLn"
      },
      "source": [
        "## Criando funções\n",
        "\n",
        "Para definir uma função, utilizamos a palavra chave `def`, seguido dos parênteses `()`, com seus respectivos parâmetros (falaremos sobre parâmetros daqui a pouco)."
      ]
    },
    {
      "cell_type": "markdown",
      "metadata": {
        "id": "jgucACTLP5Pp"
      },
      "source": [
        "\n",
        "\n",
        "```python\n",
        "def nome do método/função ( parâmetros ): \n",
        "    corpo do método/função\n",
        "```\n",
        "\n"
      ]
    },
    {
      "cell_type": "code",
      "metadata": {
        "id": "BD2gmOX_-8XD"
      },
      "source": [
        "# fun()"
      ],
      "execution_count": null,
      "outputs": []
    },
    {
      "cell_type": "code",
      "metadata": {
        "id": "EC0-ycouCGwe"
      },
      "source": [
        "def fun():  # Definindo uma função com o nome fun, sem parâmetros\n",
        "    pass    "
      ],
      "execution_count": null,
      "outputs": []
    },
    {
      "cell_type": "markdown",
      "metadata": {
        "id": "4-2kHI8oQJ88"
      },
      "source": [
        "Para chamar a função, escreva o nome dela sem a palavra `def`, com os parênteses e seus parâmetros."
      ]
    },
    {
      "cell_type": "code",
      "metadata": {
        "id": "bZXMAcO1QKDy"
      },
      "source": [
        "fun()       # Chamando a função fun"
      ],
      "execution_count": null,
      "outputs": []
    },
    {
      "cell_type": "markdown",
      "metadata": {
        "id": "IZAMD75MCIgY"
      },
      "source": [
        "*Não esqueça de indentar o corpo da função!*"
      ]
    },
    {
      "cell_type": "markdown",
      "metadata": {
        "id": "eFdfVQCBCKjh"
      },
      "source": [
        "## [Por que definir funções?](https://www.inf.pucrs.br/~pinho/LaproI/Funcoes/AulaDeFuncoes.htm)\n",
        "\n",
        "Imagine um código bem extenso, pode ser interessante modularizar o seu código para facilitar as coisas."
      ]
    },
    {
      "cell_type": "code",
      "metadata": {
        "id": "unzjhHbMCJ22"
      },
      "source": [
        "def fatorial(n):\n",
        "    fat = 1\n",
        "    for i in range(1, n + 1):\n",
        "        fat *= i\n",
        "    print(fat)\n",
        "    \n",
        "for i in range(6):\n",
        "    fatorial(i)"
      ],
      "execution_count": null,
      "outputs": []
    },
    {
      "cell_type": "markdown",
      "metadata": {
        "id": "KHVFH97e9P1W"
      },
      "source": [
        "* Para permitir o reaproveitamento de código já construído(por você ou por outros programadores);\n",
        "* Para evitar que um trecho de código que seja repetido várias vezes dentro de um mesmo programa;\n",
        "* Para permitir a alteração de um trecho de código de uma forma mais rápida. Com o uso de uma função é preciso alterar apenas dentro da função que se deseja;\n",
        "* Para que os blocos do programa não fiquem grandes demais e, por conseqüência, mais difíceis de entender;\n",
        "* Para facilitar a leitura do programa-fonte de uma forma mais fácil;\n",
        "* Para separar o programa em partes(blocos) que possam ser logicamente compreendidos de forma isolada.\n",
        "\n",
        "*Fonte: https://www.inf.pucrs.br/~pinho/LaproI/Funcoes/AulaDeFuncoes.htm*"
      ]
    },
    {
      "cell_type": "markdown",
      "metadata": {
        "id": "0-phkJ7jCQ-C"
      },
      "source": [
        "Uma função pode retornar um valor. Isso pode ser muito útil em alguns casos. Veja:"
      ]
    },
    {
      "cell_type": "code",
      "metadata": {
        "id": "vXhp95UICRy3"
      },
      "source": [
        "def fatorial(n):\n",
        "    fat = 1\n",
        "    for i in range(1, n + 1):\n",
        "        fat *= i\n",
        "    return fat\n",
        "    \n",
        "somas = 0\n",
        "for i in range(6):\n",
        "    somas += fatorial(i)\n",
        "somas"
      ],
      "execution_count": null,
      "outputs": []
    },
    {
      "cell_type": "markdown",
      "metadata": {
        "id": "vM2DSxCyCTYZ"
      },
      "source": [
        "Veremos mais sobre isso daqui a pouco."
      ]
    },
    {
      "cell_type": "markdown",
      "metadata": {
        "id": "9FALeN72CV-X"
      },
      "source": [
        "## Funções sem retorno"
      ]
    },
    {
      "cell_type": "markdown",
      "metadata": {
        "id": "1N8dLLmoCae5"
      },
      "source": [
        "Uma função que não retorna nenhum valor é chamada também de **procedimento**.\n",
        "\n",
        "Seu principal objetivo é modularizar o programa, tornando mais fácil a reutilização de *procedimentos* repetitivos."
      ]
    },
    {
      "cell_type": "markdown",
      "metadata": {
        "id": "8Zu35GkmCccR"
      },
      "source": [
        "**Crie uma função que mostre seu nome na tela.** *(Não esqueça de chamá-la em seguida)*"
      ]
    },
    {
      "cell_type": "code",
      "metadata": {
        "id": "zsdL1txTCdv9"
      },
      "source": [
        "def name():\n",
        "    print(\"Maria\")"
      ],
      "execution_count": null,
      "outputs": []
    },
    {
      "cell_type": "code",
      "metadata": {
        "id": "-xg8hAqlCeyp",
        "outputId": "1fd8c1cc-d5bd-489d-c67e-4055835d828a",
        "colab": {
          "base_uri": "https://localhost:8080/",
          "height": 52
        }
      },
      "source": [
        "name()\n",
        "name()"
      ],
      "execution_count": null,
      "outputs": [
        {
          "output_type": "stream",
          "text": [
            "Maria\n",
            "Maria\n"
          ],
          "name": "stdout"
        }
      ]
    },
    {
      "cell_type": "markdown",
      "metadata": {
        "id": "IBfKaxGRCg0r"
      },
      "source": [
        "## Parâmetros"
      ]
    },
    {
      "cell_type": "markdown",
      "metadata": {
        "id": "kFogbszRCimF"
      },
      "source": [
        "Na maioria das vezes, queremos que nossas funções executem cálculos ou ações dependendo de certos valores que estão no nosso código principal.\n",
        "\n",
        "Uma forma de resolver isso é com *variáveis globais*. Apesar de funcionar, esta alternativa não é tão interessante, já que pode deixar nosso código pouco legível e confuso, além de poder causar diversos problemas e bugs."
      ]
    },
    {
      "cell_type": "code",
      "metadata": {
        "id": "V8Xis24CCgJ3"
      },
      "source": [
        "# Declarando uma variável global\n",
        "lado = 0                     \n",
        "\n",
        "# Definindo uma função (procedimento) area_quadrado\n",
        "def area_quadrado():\n",
        "    # Calcula a area\n",
        "    global lado  # Informa ao interpretador que lado é global\n",
        "    resultado = lado*lado\n",
        "    # Mostra na tela\n",
        "    print(f\"A area do quadrado é {resultado}\")\n",
        "\n",
        "lado = 2\n",
        "area_quadrado()\n",
        "lado = 4\n",
        "area_quadrado()"
      ],
      "execution_count": null,
      "outputs": []
    },
    {
      "cell_type": "markdown",
      "metadata": {
        "id": "S2iC-PaSCl-1"
      },
      "source": [
        "O código acima pode ser reescrito para utilizar parâmetros, veja:"
      ]
    },
    {
      "cell_type": "code",
      "metadata": {
        "id": "9p8m15yRCmtV"
      },
      "source": [
        "# Definindo uma função (procedimento) area_quadrado, com parâmetros\n",
        "def area_quadrado(lado):\n",
        "    # Calcula a area\n",
        "    resultado = lado*lado\n",
        "    # Mostra na tela\n",
        "    print(f\"A area do quadrado é {resultado}\")\n",
        "\n",
        "# Chamando a função area_quadrado, e passando 2 como parâmetro \n",
        "area_quadrado(2)         \n",
        "# Chamando a função area_quadrado, e passando 4 como parâmetro\n",
        "area_quadrado(4)         "
      ],
      "execution_count": null,
      "outputs": []
    },
    {
      "cell_type": "markdown",
      "metadata": {
        "id": "7uf9RcKLCn54"
      },
      "source": [
        "**Crie uma função para calcular a área de um círculo. Passe o raio como parâmetro**"
      ]
    },
    {
      "cell_type": "code",
      "metadata": {
        "id": "15H9R9zQCoPR"
      },
      "source": [
        "# Seu código aqui\n",
        "import math\n",
        "print(math.pi) # 3.14  r**2  math.pi*(r**2)\n"
      ],
      "execution_count": null,
      "outputs": []
    },
    {
      "cell_type": "code",
      "metadata": {
        "id": "hBFTReoVqDQg"
      },
      "source": [
        "# def area_circulo(raio):\n",
        "    # math.pi\n",
        "\n",
        "def f(x):\n",
        "    a = 2\n",
        "    return a*x**2 + 2"
      ],
      "execution_count": null,
      "outputs": []
    },
    {
      "cell_type": "markdown",
      "metadata": {
        "id": "PV8baiF0CpUl"
      },
      "source": [
        "Nós podemos ter vários parâmetros, e eles podem ser de vários tipos (números, booleans, estruturas de dados, objetos...)."
      ]
    },
    {
      "cell_type": "code",
      "metadata": {
        "id": "xQlgyrs5CsDF"
      },
      "source": [
        "def funcao(parametro1, parametro2):\n",
        "    print(f\"O parâmetro 1 é do tipo {type(parametro1)}\")\n",
        "    print(f\"O parâmetro 2 é do tipo {type(parametro2)}\")\n",
        "\n",
        "funcao(1, \"olá\")"
      ],
      "execution_count": null,
      "outputs": []
    },
    {
      "cell_type": "markdown",
      "metadata": {
        "id": "smF9OgUkCuYZ"
      },
      "source": [
        "**Crie uma função `potencia`, com dois parâmetros: `base` e `expoente`.**"
      ]
    },
    {
      "cell_type": "code",
      "metadata": {
        "id": "lkDUridUCva5"
      },
      "source": [
        ""
      ],
      "execution_count": null,
      "outputs": []
    },
    {
      "cell_type": "markdown",
      "metadata": {
        "id": "3C7lJg1xCwl1"
      },
      "source": [
        "#### Parâmetros posicionais"
      ]
    },
    {
      "cell_type": "markdown",
      "metadata": {
        "id": "FaI07bwxCx42"
      },
      "source": [
        "Ao chamar uma função com vários parâmetros, devemos respeitar a ordem em que foram declarados. Veja:"
      ]
    },
    {
      "cell_type": "code",
      "metadata": {
        "id": "JX8ZYBxVCyyy",
        "outputId": "06f29249-a7d6-4c61-e825-039f2fc43f81",
        "colab": {
          "base_uri": "https://localhost:8080/",
          "height": 87
        }
      },
      "source": [
        "# Definindo uma função (procedimento) area_retangulo, com dois parâmetros posicionais\n",
        "def area_retangulo(lado1, lado2, mostrarLados):\n",
        "    # Calcula a area\n",
        "    resultado = lado1*lado2\n",
        "    # Mostra na tela\n",
        "    if mostrarLados:\n",
        "        print(f\"Lado 1={lado1}\\nLado 2={lado2}\")\n",
        "    print(f\"A area do retangulo é {resultado}\")\n",
        "\n",
        "# Chamando a função area_retangulo, e passando 2, 3 e False como parâmetros \n",
        "area_retangulo(2, 3, False)      \n",
        "# Chamando a função area_retangulo, e passando 4, 5 e True como parâmetro1   \n",
        "area_retangulo(4, 3, True)         "
      ],
      "execution_count": null,
      "outputs": [
        {
          "output_type": "stream",
          "text": [
            "A area do retangulo é 6\n",
            "Lado 1=4\n",
            "Lado 2=3\n",
            "A area do retangulo é 12\n"
          ],
          "name": "stdout"
        }
      ]
    },
    {
      "cell_type": "code",
      "metadata": {
        "id": "oXOc3O69rD0K"
      },
      "source": [
        "# area_retangulo(False, 2, 3) "
      ],
      "execution_count": null,
      "outputs": []
    },
    {
      "cell_type": "markdown",
      "metadata": {
        "id": "a5cXPsSEC0SE"
      },
      "source": [
        "Perceba que passamos primeiro os valores dos lados do retângulo, e depois passamos o parâmetro para mostrar ou não os lados (conforme a declaração da função)."
      ]
    },
    {
      "cell_type": "markdown",
      "metadata": {
        "id": "XxJ5Yi-YC1v6"
      },
      "source": [
        "Note também que `lado1` e `lado2` devem ser do tipo **numérico** (*apesar do Python não ser fortemente tipado, a multiplicação de outros tipos de dados podem causar erros*), ao passo que, `mostrarLados` deve ser do tipo **boolean** (*True ou False*).\n",
        "\n"
      ]
    },
    {
      "cell_type": "markdown",
      "metadata": {
        "id": "oHkJ98pPC24l"
      },
      "source": [
        "Podemos adicionar valores *default* aos parâmetros, assim, caso eles não sejam passados como argumentos, um valor **padrão** é definido automaticamente."
      ]
    },
    {
      "cell_type": "code",
      "metadata": {
        "id": "z8sumjxyC5Pu",
        "outputId": "4df72026-1013-4dc5-8a7b-37120d9e3f8b",
        "colab": {
          "base_uri": "https://localhost:8080/",
          "height": 87
        }
      },
      "source": [
        "# Definindo uma função (procedimento) area_retangulo, com dois parâmetros posicionais\n",
        "def area_retangulo(lado1, lado2, mostrarLados=False):\n",
        "    # Calcula a area\n",
        "    resultado = lado1*lado2\n",
        "    # Mostra na tela\n",
        "    if mostrarLados:\n",
        "        print(f\"Lado 1={lado1}\\nLado 2={lado2}\")\n",
        "    print(f\"A area do retangulo é {resultado}\")\n",
        "\n",
        "# Chamando a função area_retangulo, e passando 2, 3 como parâmetros\n",
        "area_retangulo(2, 3)    # Não é necessário passar um boolean como parâmetro\n",
        "# Chamando a função area_retangulo, e passando 4, 5 e True como parâmetro1   \n",
        "area_retangulo(4, 3, True)    "
      ],
      "execution_count": null,
      "outputs": [
        {
          "output_type": "stream",
          "text": [
            "A area do retangulo é 6\n",
            "Lado 1=4\n",
            "Lado 2=3\n",
            "A area do retangulo é 12\n"
          ],
          "name": "stdout"
        }
      ]
    },
    {
      "cell_type": "markdown",
      "metadata": {
        "id": "t3PPqxN2W-nT"
      },
      "source": [
        "**Faça uma função para calcular a área de um retângulo. A função deve aceitar dois lados como parâmetros. Defina um dos lados como opcional (caso não seja passado o segundo parâmetro, a função deve considerar que ambos os lados são iguais).**"
      ]
    },
    {
      "cell_type": "code",
      "metadata": {
        "id": "mI7ouga8W9r_"
      },
      "source": [
        "# Sua função aqui\n",
        "\n",
        "# print(area_retangulo(10))\n",
        "# print(area_retangulo(10, 15.5))"
      ],
      "execution_count": null,
      "outputs": []
    },
    {
      "cell_type": "markdown",
      "metadata": {
        "id": "C6QKHjRlC4Tl"
      },
      "source": [
        "#### Parâmetros chave-valor (*keywords*)\n",
        "\n",
        "O Python permite chamar a função especificando cada parâmetro, independente da ordem. Veja:"
      ]
    },
    {
      "cell_type": "code",
      "metadata": {
        "id": "4A1rDzqRC7wa"
      },
      "source": [
        "# Chamando a função area_retangulo, e passando 2, 3 como parâmetros\n",
        "area_retangulo(lado1=2, lado2=3)\n",
        "area_retangulo(mostrarLados=True, lado2=3, lado1=4)  # Agora a ordem não importa mais :D"
      ],
      "execution_count": null,
      "outputs": []
    },
    {
      "cell_type": "markdown",
      "metadata": {
        "id": "7ZtN-tiAC-JM"
      },
      "source": [
        "## Retorno\n",
        "\n",
        "Muitas vezes estamos interessados em obter algum resultado quando chamamos uma função. \n",
        "\n",
        "Uma forma de resolver isso é com a utilização de *variáveis globais*. Novamente esta opção não é a mais recomendada. Veja:"
      ]
    },
    {
      "cell_type": "code",
      "metadata": {
        "id": "bLnnF842DALK"
      },
      "source": [
        "resultado = 0\n",
        "# Definindo uma função area_quadrado\n",
        "def area_quadrado(lado):\n",
        "    # Calcula a area\n",
        "    global resultado  # Informa ao interpretador que resultado é global\n",
        "    resultado = lado*lado\n",
        "\n",
        "# Chamando a função area_quadrado, e passando 2 como parâmetro \n",
        "area_quadrado(2)\n",
        "print(f\"A area do quadrado é {resultado}\")         "
      ],
      "execution_count": null,
      "outputs": []
    },
    {
      "cell_type": "markdown",
      "metadata": {
        "id": "7Q36JC3TDBv4"
      },
      "source": [
        "Para resolver isso, podemos utilizar os retornos em funções, com a utilização da palavra-chave `return`, seguido pelo valor de retorno."
      ]
    },
    {
      "cell_type": "markdown",
      "metadata": {
        "id": "20eEH6qFDCDr"
      },
      "source": [
        "Esse tipo de função também recebe o nome de **rotina** ou **subrotina**."
      ]
    },
    {
      "cell_type": "code",
      "metadata": {
        "id": "Z8aNyDPGDD-w",
        "outputId": "c8445169-1909-4650-ec8a-5a8c1781c9f4",
        "colab": {
          "base_uri": "https://localhost:8080/",
          "height": 35
        }
      },
      "source": [
        "# Definindo uma função (rotina) area_quadrado, com retorno\n",
        "def area_quadrado(lado):\n",
        "    # Calcula a area\n",
        "    resultado = lado*lado\n",
        "    # retorna o resultado\n",
        "    return resultado\n",
        "\n",
        "# Chamando a função area_quadrado, e passando 2 como parâmetro \n",
        "print(f\"A area do quadrado é {area_quadrado(2)}\")         "
      ],
      "execution_count": null,
      "outputs": [
        {
          "output_type": "stream",
          "text": [
            "A area do quadrado é 4\n"
          ],
          "name": "stdout"
        }
      ]
    },
    {
      "cell_type": "markdown",
      "metadata": {
        "id": "7QB9VnorDFsz"
      },
      "source": [
        "Note que podemos ter quantos valores forem necessários depois da palavra chave `return`, inclusive nenhum valor (a utilização do `return` sozinho é possível, mas pouco utilizada)."
      ]
    },
    {
      "cell_type": "code",
      "metadata": {
        "id": "OqG1O15ODGpn",
        "outputId": "13f7cdc7-eea8-44bd-a640-8045825bc119",
        "colab": {
          "base_uri": "https://localhost:8080/",
          "height": 69
        }
      },
      "source": [
        "def funcao_com_retorno(n):\n",
        "    if n == 0:\n",
        "        return\n",
        "    if n == 1:\n",
        "        return 1\n",
        "    if n == 2:\n",
        "        return 1, 2\n",
        "\n",
        "print(funcao_com_retorno(0))\n",
        "print(funcao_com_retorno(1))\n",
        "print(funcao_com_retorno(2))"
      ],
      "execution_count": null,
      "outputs": [
        {
          "output_type": "stream",
          "text": [
            "None\n",
            "1\n",
            "(1, 2)\n"
          ],
          "name": "stdout"
        }
      ]
    },
    {
      "cell_type": "markdown",
      "metadata": {
        "id": "ViHjxIuIDIEv"
      },
      "source": [
        "**Refaça os exercícios anteriores utilizando retorno nas funções.**"
      ]
    },
    {
      "cell_type": "code",
      "metadata": {
        "id": "Fny7ikyXDIlr"
      },
      "source": [
        "# Seu código aqui"
      ],
      "execution_count": null,
      "outputs": []
    },
    {
      "cell_type": "code",
      "metadata": {
        "id": "RMgJ-xjlDIwJ"
      },
      "source": [
        "# Seu código aqui"
      ],
      "execution_count": null,
      "outputs": []
    },
    {
      "cell_type": "code",
      "metadata": {
        "id": "_eWYJO8oDI3a"
      },
      "source": [
        "# Seu código aqui"
      ],
      "execution_count": null,
      "outputs": []
    },
    {
      "cell_type": "markdown",
      "metadata": {
        "id": "5c-sWbBdDLLF"
      },
      "source": [
        "## Recursividade\n",
        "\n",
        "Você pode chamar funções dentro do corpo da função atual. A chamada da função no seu próprio corpo recebe o nome de **recursividade**."
      ]
    },
    {
      "cell_type": "code",
      "metadata": {
        "id": "WIwo60rtDNv7",
        "outputId": "21b0ab12-8a33-4531-8ca2-6d6109b42232",
        "colab": {
          "base_uri": "https://localhost:8080/",
          "height": 35
        }
      },
      "source": [
        "def funcao_recursiva(n, max):\n",
        "    print(n, end=' ')\n",
        "    if n == max: # Ponto de parada, necessário para parar a chamada da função\n",
        "        return  \n",
        "    funcao_recursiva(n+1, max)\n",
        "\n",
        "funcao_recursiva(0, 10)"
      ],
      "execution_count": null,
      "outputs": [
        {
          "output_type": "stream",
          "text": [
            "0 1 2 3 4 5 6 7 8 9 10 "
          ],
          "name": "stdout"
        }
      ]
    },
    {
      "cell_type": "markdown",
      "metadata": {
        "id": "p9JgBoM_DPEJ"
      },
      "source": [
        "Recursividade é um assunto bem difícil no início.\n",
        "\n",
        "Existem certos problemas que são mais facilmente resolvidos utilizando recursividade, mas de qualquer forma, vou deixar aqui um código para você saber do que se trata.\n",
        "\n",
        "Você pode aprender mais sobre isso [aqui](https://medium.com/@henriquebraga_18075/algoritmos-recursividade-recurs%C3%A3o-c4aff7291bb4)."
      ]
    },
    {
      "cell_type": "code",
      "metadata": {
        "id": "yA2eG3e0DRyQ"
      },
      "source": [
        "def fatorial(n):\n",
        "    if n <= 1:\n",
        "        return 1\n",
        "    return n*fatorial(n - 1)\n",
        "    \n",
        "for i in range(6):\n",
        "    print(fatorial(i))"
      ],
      "execution_count": null,
      "outputs": []
    },
    {
      "cell_type": "markdown",
      "metadata": {
        "id": "mvRj4i6dVHVJ"
      },
      "source": [
        "## Para resumir..."
      ]
    },
    {
      "cell_type": "markdown",
      "metadata": {
        "id": "EeL6vVC7U6fi"
      },
      "source": [
        "![image.png](data:image/png;base64,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)"
      ]
    },
    {
      "cell_type": "markdown",
      "metadata": {
        "id": "5-_l1irTOhMY"
      },
      "source": [
        "## Chamada de métodos"
      ]
    },
    {
      "cell_type": "markdown",
      "metadata": {
        "id": "TnraOmPpOkNq"
      },
      "source": [
        "Funções e métodos são, em essência, a mesma coisa: são estruturas no código que realizam alguma tarefa específica. A diferença do método e da função é que, o método só pode ser chamado (isto é, executado) se houver um objeto que irá chamar esse método. A função não necessita de um objeto para executar. \n",
        "\n",
        "Chamar métodos é importante porque existem vários objetos na programação que possibilitam a realização de operações por meio desse recurso. \n",
        "\n",
        "Por exemplo:\n",
        "\n",
        "\n",
        "*   Substituir letras e palavras em strings;\n",
        "*   Inserir e remover elementos de listas;\n",
        "*   Formatar strings com `format()`;\n",
        "*   Fechar e ler arquivos de texto com `close()` e `read()`.\n",
        "\n",
        "\n",
        "\n",
        "Perceba a diferença da chamada de métodos e funções nos códigos a seguir.\n"
      ]
    },
    {
      "cell_type": "code",
      "metadata": {
        "id": "stMHXlufOjVs"
      },
      "source": [
        "# Chamando uma função\n",
        "print(\"Olá mundo!\")"
      ],
      "execution_count": null,
      "outputs": []
    },
    {
      "cell_type": "code",
      "metadata": {
        "id": "X3RS8uEyPGCg",
        "outputId": "a3c6d26a-9e54-470d-93ba-29efc3dcbb23",
        "colab": {
          "base_uri": "https://localhost:8080/",
          "height": 35
        }
      },
      "source": [
        "# Chamando um método\n",
        "frase = \"Olá mundo!\"\n",
        "frase.replace(\"mundo\", \"pessoal\")"
      ],
      "execution_count": null,
      "outputs": [
        {
          "output_type": "execute_result",
          "data": {
            "application/vnd.google.colaboratory.intrinsic+json": {
              "type": "string"
            },
            "text/plain": [
              "'Olá pessoal!'"
            ]
          },
          "metadata": {
            "tags": []
          },
          "execution_count": 8
        }
      ]
    },
    {
      "cell_type": "markdown",
      "metadata": {
        "id": "y6ZkV99eRMtt"
      },
      "source": [
        "Na prática a diferença é que no segundo caso precisamos colocar o objeto e chamar o método com um ponto, enquanto no primeiro caso isso não é necessário."
      ]
    },
    {
      "cell_type": "markdown",
      "metadata": {
        "id": "ddBSdP13SSYc"
      },
      "source": [
        "Perceba que nós já trabalhamos com métodos anteriormente mas não o estudamos separadamente. Entretanto, na prática, é como uma chamada de função normal.\n",
        "\n",
        "Veremos como criar classes e definir métodos em outras oportunidades."
      ]
    },
    {
      "cell_type": "markdown",
      "metadata": {
        "id": "vpd6QNJDI1mI"
      },
      "source": [
        "## Desafios"
      ]
    },
    {
      "cell_type": "markdown",
      "metadata": {
        "id": "MRhZckOpHrWt"
      },
      "source": [
        "Veja os métodos de strings em https://www.w3schools.com/python/python_ref_string.asp\n",
        "Especialmente:\n",
        "\n",
        "\n",
        "*   capitalize() - Transforma tudo em caps lock;\n",
        "*   replace() - Para remover caracteres indesejados.\n",
        "\n"
      ]
    },
    {
      "cell_type": "markdown",
      "metadata": {
        "id": "NURHkAQOWhgk"
      },
      "source": [
        "### Text Wrap\n",
        "\n",
        "Maria está trabalhando com um texto em seu programa de computador, mas por alguma razão o texto de entrada contém apenas uma linha.\n",
        "\n",
        "Ela precisa de uma função que automaticamente ajuste o texto conforme o tamanho desejado.\n",
        "\n",
        "Sua função deve ajustar textos nas mais variadas formas. Algumas vezes Maria não sabe qual o tamanho final adequado, e as vezes ela quer o texto todo capitalizado.\n",
        "\n",
        "Para complicar, as vezes o texto já apresenta várias linhas, e caracteres errados ($), que devem ser desconsiderados ou removidos.\n",
        "\n",
        "#### Exemplo\n",
        "\n",
        "```python\n",
        "texto = 'ABCDEFGHIJKLIMNOQRSTUVWXYZ'\n",
        "\n",
        "formatar_texto(texto, 4)\n",
        "```\n",
        "\n",
        "```\n",
        "ABCD\n",
        "EFGH\n",
        "IJKL\n",
        "IMNO\n",
        "QRST\n",
        "UVWX\n",
        "YZ\n",
        "```\n",
        "\n",
        "A função deve ajustar para um valor padrão caso não seja passado.\n",
        "\n",
        "```python\n",
        "texto = 'ABCDEFGHIJKLIMNOQRSTUVWXYZ'\n",
        "\n",
        "formatar_texto(texto)\n",
        "```\n",
        "\n",
        "```\n",
        "ABCDEFGH\n",
        "IJKLIMNO\n",
        "QRSTUVWX\n",
        "YZ\n",
        "```\n",
        "\n",
        "A função deve ter um parâmetro opcional para capitalizar a frase.\n",
        "\n",
        "```python\n",
        "texto = 'ABCDEFGHIJKLIMNOQRSTUVWXyz'\n",
        "\n",
        "formatar_texto(texto, capitalizar=True)\n",
        "```\n",
        "\n",
        "```\n",
        "ABCDEFGH\n",
        "IJKLIMNO\n",
        "QRSTUVWX\n",
        "YZ\n",
        "```\n",
        "\n",
        "A função deve remover caracteres indesejados.\n",
        "\n",
        "```python\n",
        "texto = 'ABCDEF$GHIJKLIM$NOQR'\n",
        "        'STUVWX$YZ'\n",
        "\n",
        "formatar_texto(texto)\n",
        "```\n",
        "\n",
        "```\n",
        "ABCDEFGH\n",
        "IJKLIMNO\n",
        "QRSTUVWX\n",
        "YZ\n",
        "```\n",
        "\n"
      ]
    },
    {
      "cell_type": "code",
      "metadata": {
        "id": "LgPjKYy3A913"
      },
      "source": [
        "# Seu código aqui"
      ],
      "execution_count": null,
      "outputs": []
    }
  ]
}