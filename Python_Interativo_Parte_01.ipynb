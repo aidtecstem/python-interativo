{
  "nbformat": 4,
  "nbformat_minor": 0,
  "metadata": {
    "colab": {
      "name": "Python Interativo - Parte 01.ipynb",
      "provenance": [],
      "collapsed_sections": [],
      "toc_visible": true,
      "include_colab_link": true
    },
    "kernelspec": {
      "name": "python3",
      "display_name": "Python 3"
    }
  },
  "cells": [
    {
      "cell_type": "markdown",
      "metadata": {
        "id": "view-in-github",
        "colab_type": "text"
      },
      "source": [
        "<a href=\"https://colab.research.google.com/github/aidtecstem/python-interativo/blob/master/Python_Interativo_Parte_01.ipynb\" target=\"_parent\"><img src=\"https://colab.research.google.com/assets/colab-badge.svg\" alt=\"Open In Colab\"/></a>"
      ]
    },
    {
      "cell_type": "markdown",
      "metadata": {
        "id": "_xISJe1qEv28",
        "colab_type": "text"
      },
      "source": [
        "# Python Interativo\n",
        "\n",
        "## Instalação do Python e características\n",
        "\n",
        "Olá. Este notebook irá guiar você no curso Python Interativo.\n",
        "\n",
        "Neste notebook, iremos aprender um pouco sobre os seguintes tópicos:\n",
        "- Instalação e configuração do Python;\n",
        "- Características principais;\n",
        "- Variáveis;\n",
        "- Operações aritméticas, lógicas e relacionais;\n",
        "- Utilização do CLI;\n",
        "- Criando e executando um programa Python."
      ]
    },
    {
      "cell_type": "markdown",
      "metadata": {
        "id": "_TGCP8zSEWcX",
        "colab_type": "text"
      },
      "source": [
        "## Por que aprender Python?\n",
        "\n",
        "* Desenvolvimento de aplicações Web\n",
        "* Educação\n",
        "* Robótica\n",
        "* **Inteligência artificial**\n",
        "* **Aplicações numéricas e científicas**\n",
        "* Desktop GUIs\n",
        "* E muito mais!"
      ]
    },
    {
      "cell_type": "markdown",
      "metadata": {
        "id": "tjU7Lpw26J9N",
        "colab_type": "text"
      },
      "source": [
        "## Instalação e configuração do Python"
      ]
    },
    {
      "cell_type": "markdown",
      "metadata": {
        "id": "veyP2kVK6z7c",
        "colab_type": "text"
      },
      "source": [
        "### [Site oficial](https://www.python.org/) e [documentação](https://docs.python.org/3/ )\n"
      ]
    },
    {
      "cell_type": "markdown",
      "metadata": {
        "id": "j557XQZs63MD",
        "colab_type": "text"
      },
      "source": [
        "No site oficial podemos encontrar muitas coisas úteis, como o **download da linguagem de programação**, **instruções para instalação**, **tutoriais** e a **documentação oficial**.\n",
        "\n",
        "No mundo da programação, a documentação é o recurso que descreve o produto. A documentação contém todas as \"instruções\" de uso de alguma coisa.\n",
        "\n",
        "No caso do Python, você pode encontrar a descrição das funções básicas e informações sobre o core da linguagem. Eu recomendo que você faça uma rápida leitura da documentação, mesmo que ela pareça grego para você."
      ]
    },
    {
      "cell_type": "markdown",
      "metadata": {
        "id": "Lq1Tn1gbAmug",
        "colab_type": "text"
      },
      "source": [
        "## Instalação"
      ]
    },
    {
      "cell_type": "markdown",
      "metadata": {
        "id": "veIqcMQo6PIm",
        "colab_type": "text"
      },
      "source": [
        "Para instalar o Python é muito simples.\n",
        "\n",
        "No Windows é necessário fazer o download executar o instalador a [partir do site oficia](https://www.python.org/downloads/)l.\n",
        "\n",
        "Você pode encontrar um tutorial para instalação no Windows [aqui](https://python.org.br/instalacao-windows/), e se você usa Linux, [aqui](https://python.org.br/instalacao-linux/) (algumas distribuições já vem com o Python pré-instalado), e Mac, [aqui](https://python.org.br/instalacao-mac/). Ah, não se esqueça de selecionar a versão 3 do Python, é a que utilizaremos aqui!\n",
        "\n",
        "Dica: Adicione o Python ao PATH do computador. Assim você conseguirá executar o Python a partir do terminal (essa opção aparece durante a instalação).\n",
        "\n",
        "Para instalações avançadas, você pode preferir instalar o [Anaconda](https://www.anaconda.com/), que gerencia ambientes virtuais de forma mais eficiente."
      ]
    },
    {
      "cell_type": "markdown",
      "metadata": {
        "id": "jXv8X2_cP83C",
        "colab_type": "text"
      },
      "source": [
        "## Características principais"
      ]
    },
    {
      "cell_type": "markdown",
      "metadata": {
        "id": "40lcg2-96pQC",
        "colab_type": "text"
      },
      "source": [
        "Primeiro, vamos definir o que é uma linguagem de programação. Para [digital dev](http://www.digitaldev.com.br/linguagens-de-programacao/):\n",
        "\n",
        "> Uma linguagem de programação é um método padronizado para expressar instruções para um computador, ou seja, é um conjunto de regras sintáticas e semânticas usadas para definir um programa de computador. \n",
        "\n",
        "Como o computador não entende as linguagens do ser humano, e o ser humano também não entende o computador direito, a gente cria uma linguagem de programação pra facilitar a comunicação entre esses dois mundos, ou seja, um conjunto de caracteres que seguem algumas regras e que o computador consegue processar, ao mesmo tempo que a gente consegue pensar e escrever ela de forma natural.\n",
        "\n",
        "Já o programa, que é escrito em uma LP, é o conjunto de instruções que você escreveu e executa no computador. Um programa pode fazer contas, checar condições e tomar decisões com base nessas condições, realizar tarefas repetidamente, etc.\n",
        "\n",
        "É exatamente isso, se você não está familiarizado com programação, não se preocupe. Na verdade, um programa nada mais é que um texto contendo uma ou mais receitas (que chamamos de algoritmos) e que o computador entende.\n",
        "\n",
        "Se você entende um pouco de inglês, você irá perceber que as LPs são formadas por palavras que a gente já conhece. Na verdade, é desejável que isso ocorra, por isso as linguagens de alto nível são as mais utilizadas hoje em dia (quer saber como era antes? [olha só](http://www.programador.com.br/historia-da-programacao.html)...). Quando você aprender Python, você verá que muitas palavras do cotidiano são utilizadas para dar instruções ao computador.\n",
        "\n"
      ]
    },
    {
      "cell_type": "markdown",
      "metadata": {
        "id": "86K_TMSr6_jP",
        "colab_type": "text"
      },
      "source": [
        "### Python é uma linguagem interpretada\n",
        "\n",
        "Em geral, as linguagens de programação podem ser compiladas, interpretadas, ou ainda híbridas. As LPs compiladas são aquelas em que existe um processo de tradução do código que você escreveu para um conjunto de instruções que o computador entende (e que você não rsrs). A linguagem interpretada não passa por esse processo, ela é \"lida\" no momento de execução, e o programa (ou máquina virtual) por trás disso, interpreta o código escrito. \n",
        "\n",
        "É como se o código que você escreveu executasse um monte de programas que o computador entende, a medida que as linhas do seu código são lidas pelo interpretador.\n",
        "\n",
        "Você pode aprender mais sobre isso [aqui](https://www.youtube.com/watch?v=fzNd_PD4_n4).\n",
        "\n",
        "#### Ta mas qual é melhor, interpretado ou compilado?\n",
        "\n",
        "A resposta é, depende. Em geral, se você precisa de velocidade, a linguagem compilada se sai melhor, mas a linguagem interpretada tem a vantagem de poder rodar com facilidade em muitas plataformas.\n",
        "\n",
        "O Python mesmo está em tudo, computadores, diferentes sistemas operacionais, embarcados, etc. \n",
        "\n",
        "Um código de uma LP compilada precisa ser compilado toda vez que ele for alterado e toda vez que você quiser trocar de plataforma. Dependendo do caso, isso pode ser bem complicado.\n",
        "\n",
        "Mais adiante você verá trechos de código em Python, se você copiar esses trechos e rodar em seu computador, ele irá executar da mesma forma que ele executou aqui, e da mesma forma que executou na minha casa. "
      ]
    },
    {
      "cell_type": "markdown",
      "metadata": {
        "id": "mKagMCjp7EQU",
        "colab_type": "text"
      },
      "source": [
        "### Python é interativo\n",
        "\n",
        "Se você tem o Python instalado em seu computador, você poderá testar o shell interativo da linguagem no terminal ou prompt de comandos digitando ```python``` e teclando enter (ou acessando o executável da linguagem).\n",
        "\n",
        "![Imagem do python sendo executado pelo terminal do Ubuntu 18.04. A versão do python é a padrão do sistema, versão 2.7](https://drive.google.com/uc?export=view&id=1DJrQJ4aijK5o4XnxSbFebSCNnteIN9E6)\n",
        "\n",
        "Pra ser bem simples e objetivo, o fato de uma linguagem ser interativa significa que ela pode executar as instruções no momento que você digita. \n",
        "\n",
        "Esse notebook executa Python interativamente, olha só:"
      ]
    },
    {
      "cell_type": "code",
      "metadata": {
        "id": "xntS4UvV6oVc",
        "colab_type": "code",
        "colab": {
          "base_uri": "https://localhost:8080/",
          "height": 34
        },
        "outputId": "54e7a0e3-d5e9-4715-8bfa-1a79f4afca6c"
      },
      "source": [
        "2 + 1  # Aperta play!"
      ],
      "execution_count": null,
      "outputs": [
        {
          "output_type": "execute_result",
          "data": {
            "text/plain": [
              "3"
            ]
          },
          "metadata": {
            "tags": []
          },
          "execution_count": 1
        }
      ]
    },
    {
      "cell_type": "code",
      "metadata": {
        "id": "rG9uVQ5zQJbQ",
        "colab_type": "code",
        "colab": {
          "base_uri": "https://localhost:8080/",
          "height": 34
        },
        "outputId": "ad9062c4-486a-43c4-ee68-f87fd0836f5a"
      },
      "source": [
        "print('Não precisa compilar!')"
      ],
      "execution_count": null,
      "outputs": [
        {
          "output_type": "stream",
          "text": [
            "Não precisa compilar!\n"
          ],
          "name": "stdout"
        }
      ]
    },
    {
      "cell_type": "markdown",
      "metadata": {
        "id": "NNlgb3wV7M6w",
        "colab_type": "text"
      },
      "source": [
        "Você também pode encontrar vários shell interativos [online](https://repl.it/languages), e executar Python diretamente do seu navegador!"
      ]
    },
    {
      "cell_type": "markdown",
      "metadata": {
        "id": "q9bMDoY17WFR",
        "colab_type": "text"
      },
      "source": [
        "![image.png](data:image/png;base64,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)"
      ]
    },
    {
      "cell_type": "markdown",
      "metadata": {
        "id": "wVdTcSzG74SY",
        "colab_type": "text"
      },
      "source": [
        "### Palavras chave"
      ]
    },
    {
      "cell_type": "code",
      "metadata": {
        "id": "V2imscTE8C3x",
        "colab_type": "code",
        "colab": {
          "base_uri": "https://localhost:8080/",
          "height": 238
        },
        "outputId": "bca35389-d2d2-4605-dc8f-282879cd19c3"
      },
      "source": [
        "help('keywords')"
      ],
      "execution_count": null,
      "outputs": [
        {
          "output_type": "stream",
          "text": [
            "\n",
            "Here is a list of the Python keywords.  Enter any keyword to get more help.\n",
            "\n",
            "False               def                 if                  raise\n",
            "None                del                 import              return\n",
            "True                elif                in                  try\n",
            "and                 else                is                  while\n",
            "as                  except              lambda              with\n",
            "assert              finally             nonlocal            yield\n",
            "break               for                 not                 \n",
            "class               from                or                  \n",
            "continue            global              pass                \n",
            "\n"
          ],
          "name": "stdout"
        }
      ]
    },
    {
      "cell_type": "markdown",
      "metadata": {
        "id": "i2bnoSqq9YD0",
        "colab_type": "text"
      },
      "source": [
        "### Tipos de dados"
      ]
    },
    {
      "cell_type": "markdown",
      "metadata": {
        "id": "OXWJOCfn9dPK",
        "colab_type": "text"
      },
      "source": [
        "Python não é uma linguagem fortemente tipada. Isso significa que não é necessário informar o tipo para criar uma variável ou realizar operações.\n",
        "\n",
        "Mas, internamente, a linguagem faz a checagem automática do tipo de dado que estamos lidando.\n",
        "\n",
        "Isso é necessário porque o computador precisa saber, internamente, qual é o tipo de dado para tomar as decisões corretas, por exemplo, para realizar um cálculo (cálculos matemáticos só são possíveis com números).\n",
        "\n",
        "Alguns dos tipos mais elementares são:\n",
        "\n",
        "- Números inteiros;\n",
        "- Números do ponto flutuante (números reais);\n",
        "- Números complexos;\n",
        "- Strings;\n",
        "- Booleanos;"
      ]
    },
    {
      "cell_type": "markdown",
      "metadata": {
        "id": "HeqoRFmIBF9-",
        "colab_type": "text"
      },
      "source": [
        "Você pode ver o tipo do dado chamando a função `type()`"
      ]
    },
    {
      "cell_type": "code",
      "metadata": {
        "id": "obZSLXu0A8ww",
        "colab_type": "code",
        "colab": {
          "base_uri": "https://localhost:8080/",
          "height": 34
        },
        "outputId": "a52898a4-ca99-4189-ac11-2979c0e0e676"
      },
      "source": [
        "type(5)"
      ],
      "execution_count": null,
      "outputs": [
        {
          "output_type": "execute_result",
          "data": {
            "text/plain": [
              "int"
            ]
          },
          "metadata": {
            "tags": []
          },
          "execution_count": 1
        }
      ]
    },
    {
      "cell_type": "code",
      "metadata": {
        "id": "sbK8mpyDBGxV",
        "colab_type": "code",
        "colab": {
          "base_uri": "https://localhost:8080/",
          "height": 34
        },
        "outputId": "56f5b88a-e31f-4d54-dbd4-ffd406667233"
      },
      "source": [
        "type(3.14)"
      ],
      "execution_count": null,
      "outputs": [
        {
          "output_type": "execute_result",
          "data": {
            "text/plain": [
              "float"
            ]
          },
          "metadata": {
            "tags": []
          },
          "execution_count": 6
        }
      ]
    },
    {
      "cell_type": "code",
      "metadata": {
        "id": "USGYMDEhBIV3",
        "colab_type": "code",
        "colab": {
          "base_uri": "https://localhost:8080/",
          "height": 34
        },
        "outputId": "e6b63280-c289-4b1d-ed85-21ace87ce8aa"
      },
      "source": [
        "type(\"Python\")"
      ],
      "execution_count": null,
      "outputs": [
        {
          "output_type": "execute_result",
          "data": {
            "text/plain": [
              "str"
            ]
          },
          "metadata": {
            "tags": []
          },
          "execution_count": 5
        }
      ]
    },
    {
      "cell_type": "code",
      "metadata": {
        "id": "81S-qHQFBId3",
        "colab_type": "code",
        "colab": {
          "base_uri": "https://localhost:8080/",
          "height": 34
        },
        "outputId": "e057775c-951d-46e9-8278-8c326425bdf6"
      },
      "source": [
        "type([1,2,3])"
      ],
      "execution_count": null,
      "outputs": [
        {
          "output_type": "execute_result",
          "data": {
            "text/plain": [
              "list"
            ]
          },
          "metadata": {
            "tags": []
          },
          "execution_count": 4
        }
      ]
    },
    {
      "cell_type": "code",
      "metadata": {
        "id": "uInJjwXOBIle",
        "colab_type": "code",
        "colab": {
          "base_uri": "https://localhost:8080/",
          "height": 34
        },
        "outputId": "4da13234-e497-483a-9191-66ad5533e637"
      },
      "source": [
        "type(4+1j)"
      ],
      "execution_count": null,
      "outputs": [
        {
          "output_type": "execute_result",
          "data": {
            "text/plain": [
              "complex"
            ]
          },
          "metadata": {
            "tags": []
          },
          "execution_count": 2
        }
      ]
    },
    {
      "cell_type": "code",
      "metadata": {
        "id": "Cad0LL72BQRP",
        "colab_type": "code",
        "colab": {
          "base_uri": "https://localhost:8080/",
          "height": 34
        },
        "outputId": "2914fbaa-79c1-4a1b-81cc-71462fea357b"
      },
      "source": [
        "type(True)"
      ],
      "execution_count": null,
      "outputs": [
        {
          "output_type": "execute_result",
          "data": {
            "text/plain": [
              "bool"
            ]
          },
          "metadata": {
            "tags": []
          },
          "execution_count": 3
        }
      ]
    },
    {
      "cell_type": "markdown",
      "metadata": {
        "id": "nVosr7gb7e-a",
        "colab_type": "text"
      },
      "source": [
        "## Primeiro programa"
      ]
    },
    {
      "cell_type": "markdown",
      "metadata": {
        "id": "zTSfNJCX7ffx",
        "colab_type": "text"
      },
      "source": [
        "### [Olá mundo!](https://www.youtube.com/watch?v=zecueq-mo4M)\n",
        "\n",
        "É padrão criarmos um código de Olá Mundo! para nosso primeiro programa.\n",
        "\n",
        "Uma das funções mais básicas de qualquer LP é a possibilidade de mostrar algo na tela, ou imprimir, como chamamos. Vamos usar essa função para imprimir uma mensagem de boas vindas?"
      ]
    },
    {
      "cell_type": "code",
      "metadata": {
        "id": "XgfDidCE7j15",
        "colab_type": "code",
        "colab": {
          "base_uri": "https://localhost:8080/",
          "height": 34
        },
        "outputId": "c936c78f-1bf8-43f1-b196-52747d30aba7"
      },
      "source": [
        "print('Olá Mundo!')"
      ],
      "execution_count": null,
      "outputs": [
        {
          "output_type": "stream",
          "text": [
            "Olá Mundo!\n"
          ],
          "name": "stdout"
        }
      ]
    },
    {
      "cell_type": "markdown",
      "metadata": {
        "id": "HOzZEqcW7osx",
        "colab_type": "text"
      },
      "source": [
        "**Experimente copiar esse código e executar em seu computador também:**\n",
        "\n",
        " ```print('Olá Mundo!')```"
      ]
    },
    {
      "cell_type": "markdown",
      "metadata": {
        "id": "vNXWdd3G76Iz",
        "colab_type": "text"
      },
      "source": [
        "As palavras-chave são fundamentais nas linguagens de programação. Com elas, e a noção de regras de sintaxe básicas, nós conseguiremos nos expressar para que o computador nos entenda.\n",
        "\n",
        "Pense no nosso querido português, as palavras chave seriam como verbos ou substantivos. Ainda poderíamos dar nomes as coisas (veremos isso a seguir).\n",
        "\n",
        "Por exemplo,  ```False``` é uma palavra que representa falso no Python, enquanto ```import``` é uma palavra que indica ao computador para importar algo. Veja a lista das palavras chaves do Python abaixo. No decorrer deste curso, você se familiarizará com muitas delas."
      ]
    },
    {
      "cell_type": "markdown",
      "metadata": {
        "id": "uCk7CKfwIJwH",
        "colab_type": "text"
      },
      "source": [
        "Também podemos utilizar variáveis para armazenar algum valor importante. Veja nesse exemplo:"
      ]
    },
    {
      "cell_type": "code",
      "metadata": {
        "id": "2JO5B2dVII4S",
        "colab_type": "code",
        "colab": {
          "base_uri": "https://localhost:8080/",
          "height": 50
        },
        "outputId": "7698b6b2-ba69-415e-a036-710e12288221"
      },
      "source": [
        "nome = input(\"Insira seu nome\")\n",
        "print(\"Olá\", nome)"
      ],
      "execution_count": null,
      "outputs": [
        {
          "output_type": "stream",
          "text": [
            "Insira seu nomeLucas\n",
            "Olá Lucas\n"
          ],
          "name": "stdout"
        }
      ]
    },
    {
      "cell_type": "markdown",
      "metadata": {
        "id": "kTtKXMrSBFpA",
        "colab_type": "text"
      },
      "source": [
        "## Estruturando seu programa"
      ]
    },
    {
      "cell_type": "markdown",
      "metadata": {
        "id": "YOQauWe8BIJB",
        "colab_type": "text"
      },
      "source": [
        "Agora que você já conhece os principais recursos da linguagem , podemos estudar um pouco sobre a estrutura dos programas em Python."
      ]
    },
    {
      "cell_type": "markdown",
      "metadata": {
        "id": "UJxAL6GSBLZ_",
        "colab_type": "text"
      },
      "source": [
        "### Linhas e indentação"
      ]
    },
    {
      "cell_type": "markdown",
      "metadata": {
        "id": "Zjc5BY9BBNVC",
        "colab_type": "text"
      },
      "source": [
        "Você pode escrever um programa em Python em arquivos de texto com a extensão .py . Subentende-se que um arquivo com este tipo de extensão representa um script escrito em Python.\n",
        "\n",
        "Quando escrevermos nosso programa (ou até mesmo interativamente no console), devemos seguir algumas regras simples para que o interpretador entenda o que escrevemos.\n",
        "\n",
        "Existem dois conceitos importantes na programação que você precisa se familiariazar para criarmos programas mais complexos. São eles: o conceito de linhas e o conceito de indentação.\n",
        "\n",
        "Linhas são exatamente o que o nome sugere, são as linhas do nosso programa. Você deve ter percebido que o interpretador executa linha a linha nosso programa, como se estivesse lendo um texto. Observe:"
      ]
    },
    {
      "cell_type": "code",
      "metadata": {
        "id": "hHw5PFOtBPvJ",
        "colab_type": "code",
        "colab": {}
      },
      "source": [
        "print('Executando a linha 1')\n",
        "print('Executando a linha 2')\n",
        "print('Executando a linha 3')\n",
        "print('Executando a linha 4')\n",
        "print('Executando a linha 5')"
      ],
      "execution_count": null,
      "outputs": []
    },
    {
      "cell_type": "markdown",
      "metadata": {
        "id": "qLUeSZTiBRB9",
        "colab_type": "text"
      },
      "source": [
        "Isto é, em nenhum momento o interpretador executou uma linha antes de executar todas as linhas precedentes. Isso pode parecer um pouco óbvio, mas é preciso entender a ordem na qual nossas instruções são executadas (eu utilizei um exemplo simples aqui, mas poderíamos ter um programa com muitas linhas e instruções mais complexas)."
      ]
    },
    {
      "cell_type": "markdown",
      "metadata": {
        "id": "vHvjCBbhTVJT",
        "colab_type": "text"
      },
      "source": [
        "O segundo conceito que quero que você entenda agora é o conceito de identação. Indentar significar recuar uma ou mais linhas do nosso código. Por que faríamos isso? Para melhorar a legibilidade de código."
      ]
    },
    {
      "cell_type": "markdown",
      "metadata": {
        "id": "mRjhbqxrBS7m",
        "colab_type": "text"
      },
      "source": [
        "No caso do Python, indentar não somente é recomendado mas necessário. Um código não indentado adequadamente não executará.\n",
        "\n",
        "Isso ocorre principalmente porque queremos ser capazes de separar nosso código em partes menores e executá-los de forma especial. Em algumas linguagens de programação, utilizamos símbolos para enfatizar isso, como as chaves ({ }). No Python não utilizamos símbolos, nós indentamos o código."
      ]
    },
    {
      "cell_type": "code",
      "metadata": {
        "id": "FoR0BgttBUzk",
        "colab_type": "code",
        "colab": {}
      },
      "source": [
        "# Código indentado\n",
        "if True:  \n",
        "    print('Código indentado')"
      ],
      "execution_count": null,
      "outputs": []
    },
    {
      "cell_type": "code",
      "metadata": {
        "id": "Vl2HD2FNBX7R",
        "colab_type": "code",
        "colab": {}
      },
      "source": [
        "# Código mal indentado, não funcionará\n",
        "# if True:\n",
        "# print('Código mal indentado')"
      ],
      "execution_count": null,
      "outputs": []
    },
    {
      "cell_type": "markdown",
      "metadata": {
        "id": "X064E_I7Bdgx",
        "colab_type": "text"
      },
      "source": [
        "Você verá a importância da indentação quando estudarmos outras instruções do Python, como instruções de desvios `IF-THEN-ELSE`."
      ]
    },
    {
      "cell_type": "markdown",
      "metadata": {
        "id": "PygmThKyBfy3",
        "colab_type": "text"
      },
      "source": [
        "*__Atenção__: nem sempre um código mal indentado resultará em erro. Pode acontecer de um código indentado incorretamente ainda estar correto sintaticamente, mas a lógica do seu programa estará errada!*\n",
        "\n",
        "*Observe abaixo como dois trechos parecidos de código produzem resultados diferentes por causa da indentação (quem está certo?):*"
      ]
    },
    {
      "cell_type": "code",
      "metadata": {
        "id": "X93SbYyCBgw7",
        "colab_type": "code",
        "colab": {
          "base_uri": "https://localhost:8080/",
          "height": 34
        },
        "outputId": "b4ce8cc6-51b6-49e1-a7a6-530a2526b23d"
      },
      "source": [
        "a = b = 0      # Atribui o valor 0 as variaveis a e b\n",
        "if False:      # Se falso, executa o que estiver indentado depois de :\n",
        "    a = 5      # Não irá executar\n",
        "b = 10         # Irá executar\n",
        "print(a + b)   # Mostra o resultado da soma de a com b"
      ],
      "execution_count": null,
      "outputs": [
        {
          "output_type": "stream",
          "text": [
            "10\n"
          ],
          "name": "stdout"
        }
      ]
    },
    {
      "cell_type": "code",
      "metadata": {
        "id": "2bOQySvhBhhH",
        "colab_type": "code",
        "colab": {
          "base_uri": "https://localhost:8080/",
          "height": 34
        },
        "outputId": "fcafc0c0-4863-4eee-f2c0-762d1a76d3ed"
      },
      "source": [
        "a = b = 0      # Atribui o valor 0 as variaveis a e b\n",
        "if False:      # Se falso, executa o que estiver indentado depois de :\n",
        "    a = 5      # Não irá executar\n",
        "    b = 10     # Não irá executar\n",
        "print(a + b)   # Mostra o resultado da soma de a com b"
      ],
      "execution_count": null,
      "outputs": [
        {
          "output_type": "stream",
          "text": [
            "0\n"
          ],
          "name": "stdout"
        }
      ]
    },
    {
      "cell_type": "markdown",
      "metadata": {
        "id": "a_mCCMW_8Jkt",
        "colab_type": "text"
      },
      "source": [
        "## Operações aritméticas"
      ]
    },
    {
      "cell_type": "code",
      "metadata": {
        "id": "bRCuot-v8dm8",
        "colab_type": "code",
        "colab": {
          "base_uri": "https://localhost:8080/",
          "height": 34
        },
        "outputId": "a370bbae-f922-445d-92ac-d81e40a09085"
      },
      "source": [
        "# Uma simples adição\n",
        "3 + 5"
      ],
      "execution_count": null,
      "outputs": [
        {
          "output_type": "execute_result",
          "data": {
            "text/plain": [
              "8"
            ]
          },
          "metadata": {
            "tags": []
          },
          "execution_count": 7
        }
      ]
    },
    {
      "cell_type": "code",
      "metadata": {
        "id": "I52ZRIcN8d7w",
        "colab_type": "code",
        "colab": {
          "base_uri": "https://localhost:8080/",
          "height": 34
        },
        "outputId": "6e7d6f8c-3e18-43fc-e8ab-68a5f5e8ce3f"
      },
      "source": [
        "# Uma subtração\n",
        "3.50 - 2.50"
      ],
      "execution_count": null,
      "outputs": [
        {
          "output_type": "execute_result",
          "data": {
            "text/plain": [
              "1.0"
            ]
          },
          "metadata": {
            "tags": []
          },
          "execution_count": 8
        }
      ]
    },
    {
      "cell_type": "code",
      "metadata": {
        "id": "79lmhj9r8fa1",
        "colab_type": "code",
        "colab": {
          "base_uri": "https://localhost:8080/",
          "height": 34
        },
        "outputId": "e599f9d3-4bc5-4ca7-f251-5f131c81b788"
      },
      "source": [
        "# Para dividir, usamos a barra \"/\"\n",
        "7 / 2"
      ],
      "execution_count": null,
      "outputs": [
        {
          "output_type": "execute_result",
          "data": {
            "text/plain": [
              "3.5"
            ]
          },
          "metadata": {
            "tags": []
          },
          "execution_count": 9
        }
      ]
    },
    {
      "cell_type": "code",
      "metadata": {
        "id": "kh9mcZV78gqc",
        "colab_type": "code",
        "colab": {
          "base_uri": "https://localhost:8080/",
          "height": 34
        },
        "outputId": "e7ffc78b-4e1e-42e8-9825-78bb8897be2f"
      },
      "source": [
        "# Multiplicação fazemos com \"*\". Também podemos utilizar parênteses para \n",
        "# especificar o que será calculado antes, igual na matemática\n",
        "10 * (5 + 4)"
      ],
      "execution_count": null,
      "outputs": [
        {
          "output_type": "execute_result",
          "data": {
            "text/plain": [
              "90"
            ]
          },
          "metadata": {
            "tags": []
          },
          "execution_count": 10
        }
      ]
    },
    {
      "cell_type": "code",
      "metadata": {
        "id": "ky2z_Mi08g7q",
        "colab_type": "code",
        "colab": {
          "base_uri": "https://localhost:8080/",
          "height": 34
        },
        "outputId": "aafb66d4-e751-4c6f-d241-5f1ec23609c5"
      },
      "source": [
        "# Duas barras significam divisão inteira!\n",
        "7 // 2"
      ],
      "execution_count": null,
      "outputs": [
        {
          "output_type": "execute_result",
          "data": {
            "text/plain": [
              "3"
            ]
          },
          "metadata": {
            "tags": []
          },
          "execution_count": 11
        }
      ]
    },
    {
      "cell_type": "code",
      "metadata": {
        "id": "lazUhXnT8ma2",
        "colab_type": "code",
        "colab": {
          "base_uri": "https://localhost:8080/",
          "height": 34
        },
        "outputId": "99a573c4-ecfd-4786-ac4b-4a8df75dc816"
      },
      "source": [
        "# Para calcular potência, podemos usar **\n",
        "2**4"
      ],
      "execution_count": null,
      "outputs": [
        {
          "output_type": "execute_result",
          "data": {
            "text/plain": [
              "16"
            ]
          },
          "metadata": {
            "tags": []
          },
          "execution_count": 12
        }
      ]
    },
    {
      "cell_type": "code",
      "metadata": {
        "id": "BO6DoUJM8t0L",
        "colab_type": "code",
        "colab": {
          "base_uri": "https://localhost:8080/",
          "height": 34
        },
        "outputId": "6dff49e4-72a0-4ab0-e698-17a7097504d4"
      },
      "source": [
        "# % Calcula o resto de uma divisão, por exemplo:\n",
        "4 % 2"
      ],
      "execution_count": null,
      "outputs": [
        {
          "output_type": "execute_result",
          "data": {
            "text/plain": [
              "0"
            ]
          },
          "metadata": {
            "tags": []
          },
          "execution_count": 13
        }
      ]
    },
    {
      "cell_type": "markdown",
      "metadata": {
        "id": "hNo05tpe8-ex",
        "colab_type": "text"
      },
      "source": [
        "O legal do Python é que essas operações funcionam com outras coisas além de números, e ainda podemos programar isso (veremos isso num futuro próximo) \n",
        "\n",
        "Tome alguns minutos para estudar e testar essas operações."
      ]
    },
    {
      "cell_type": "markdown",
      "metadata": {
        "id": "svNVbAXv9Pqd",
        "colab_type": "text"
      },
      "source": [
        "Veja como podemos utilizar a operação de adição com frases:"
      ]
    },
    {
      "cell_type": "code",
      "metadata": {
        "id": "mA1eN_0P9Rt2",
        "colab_type": "code",
        "colab": {
          "base_uri": "https://localhost:8080/",
          "height": 35
        },
        "outputId": "6a3fa5e7-2cbc-4a2b-9adf-66a823060f41"
      },
      "source": [
        "'Uma frase' + ' ' + 'concatenada'"
      ],
      "execution_count": null,
      "outputs": [
        {
          "output_type": "execute_result",
          "data": {
            "application/vnd.google.colaboratory.intrinsic+json": {
              "type": "string"
            },
            "text/plain": [
              "'Uma frase concatenada'"
            ]
          },
          "metadata": {
            "tags": []
          },
          "execution_count": 14
        }
      ]
    },
    {
      "cell_type": "markdown",
      "metadata": {
        "id": "MhXZK0Li9RIP",
        "colab_type": "text"
      },
      "source": [
        "Ou ainda a multiplicação de strings:"
      ]
    },
    {
      "cell_type": "code",
      "metadata": {
        "id": "mpwCRIzCBnh4",
        "colab_type": "code",
        "colab": {
          "base_uri": "https://localhost:8080/",
          "height": 35
        },
        "outputId": "43982163-81d6-46e5-90b1-6db76335a9eb"
      },
      "source": [
        "'*'*10"
      ],
      "execution_count": null,
      "outputs": [
        {
          "output_type": "execute_result",
          "data": {
            "application/vnd.google.colaboratory.intrinsic+json": {
              "type": "string"
            },
            "text/plain": [
              "'**********'"
            ]
          },
          "metadata": {
            "tags": []
          },
          "execution_count": 15
        }
      ]
    },
    {
      "cell_type": "markdown",
      "metadata": {
        "id": "_YprPeqNCdV9",
        "colab_type": "text"
      },
      "source": [
        "## Operações relacionais"
      ]
    },
    {
      "cell_type": "markdown",
      "metadata": {
        "id": "dq2ThIxYCkhb",
        "colab_type": "text"
      },
      "source": [
        "Antes de vermos como funcionam os operadores, quero que você se familiarize com os conceitos de __verdadeiro__ e __falso__ na programação.\n",
        "\n",
        "É muito util expressarmos se algo é verdade ou falso na programação. Para isso, utilizamos as palavras chaves ```False``` e ```True```. "
      ]
    },
    {
      "cell_type": "markdown",
      "metadata": {
        "id": "g-VmtNq8Co64",
        "colab_type": "text"
      },
      "source": [
        "O resultado de uma operação aritmética é um número, da mesma forma, o resultado de uma operação relacional é um valor lógico (__verdadeiro__ ou  __falso__). Por isso, quando realizarmos uma operação relacional, teremos como resultado `True` ou `False`."
      ]
    },
    {
      "cell_type": "markdown",
      "metadata": {
        "id": "MiGcsBJNCqKR",
        "colab_type": "text"
      },
      "source": [
        "De forma bem simples, a operação relacional é a operação que relaciona dois objetos da linguagem (em geral, números). Com elas podemos verificar se um número é igual  ou maior que outro, ou se algo é igual ou diferente de outra coisa. Veja:"
      ]
    },
    {
      "cell_type": "code",
      "metadata": {
        "id": "YpeXe7hiCsFu",
        "colab_type": "code",
        "colab": {
          "base_uri": "https://localhost:8080/",
          "height": 34
        },
        "outputId": "89d19bad-0263-4e6b-a616-dcec5894912a"
      },
      "source": [
        "# 5 é maior que 4?\n",
        "5 > 4"
      ],
      "execution_count": null,
      "outputs": [
        {
          "output_type": "execute_result",
          "data": {
            "text/plain": [
              "True"
            ]
          },
          "metadata": {
            "tags": []
          },
          "execution_count": 16
        }
      ]
    },
    {
      "cell_type": "markdown",
      "metadata": {
        "id": "aBHifNiJCub5",
        "colab_type": "text"
      },
      "source": [
        "Para verificar se algo é igual a outra coisa, usamos o operador =="
      ]
    },
    {
      "cell_type": "code",
      "metadata": {
        "id": "BD9xviK2Cs4-",
        "colab_type": "code",
        "colab": {
          "base_uri": "https://localhost:8080/",
          "height": 34
        },
        "outputId": "f6d4b65b-d50b-4929-976b-47b3979a5dbb"
      },
      "source": [
        "# 10 é igual a 10?\n",
        "10 == 10"
      ],
      "execution_count": null,
      "outputs": [
        {
          "output_type": "execute_result",
          "data": {
            "text/plain": [
              "True"
            ]
          },
          "metadata": {
            "tags": []
          },
          "execution_count": 17
        }
      ]
    },
    {
      "cell_type": "code",
      "metadata": {
        "id": "Ir3vaD85Ctt8",
        "colab_type": "code",
        "colab": {
          "base_uri": "https://localhost:8080/",
          "height": 34
        },
        "outputId": "9beccdab-170d-47c1-e0b7-990c81ef09d4"
      },
      "source": [
        "# Verdade é igual a falso?\n",
        "True == False"
      ],
      "execution_count": null,
      "outputs": [
        {
          "output_type": "execute_result",
          "data": {
            "text/plain": [
              "False"
            ]
          },
          "metadata": {
            "tags": []
          },
          "execution_count": 18
        }
      ]
    },
    {
      "cell_type": "code",
      "metadata": {
        "id": "wqXsvLDJCzyB",
        "colab_type": "code",
        "colab": {
          "base_uri": "https://localhost:8080/",
          "height": 34
        },
        "outputId": "032e96c8-815c-4f7d-d88a-3dcde04f3122"
      },
      "source": [
        "# (4 é maior ou igual a três?) \n",
        "# A resposta do que está dentro do parênteses é igual a verdadeiro?\n",
        "(4 >= 3) == True"
      ],
      "execution_count": null,
      "outputs": [
        {
          "output_type": "execute_result",
          "data": {
            "text/plain": [
              "True"
            ]
          },
          "metadata": {
            "tags": []
          },
          "execution_count": 19
        }
      ]
    },
    {
      "cell_type": "markdown",
      "metadata": {
        "id": "77411jnKC1Ad",
        "colab_type": "text"
      },
      "source": [
        "Note que utilizamos certos símbolos para verificar a igualdade entre objetos, se um número é maior que outro, etc. A maioria deles a gente já conhece, mas vou deixar aqui em baixo os [símbolos que a linguagem Python utiliza](https://www.tutorialspoint.com/python/python_basic_operators.htm) para realizar operações relacionais.\n",
        "\n",
        "```\n",
        "> Maior que\n",
        "< Menor que\n",
        ">= Maior ou igual que\n",
        "<= Menor ou igual que\n",
        "== Igual\n",
        "!= Diferente\n",
        "```"
      ]
    },
    {
      "cell_type": "markdown",
      "metadata": {
        "id": "BuRcD8HfDBz9",
        "colab_type": "text"
      },
      "source": [
        "## Operações lógicas"
      ]
    },
    {
      "cell_type": "markdown",
      "metadata": {
        "id": "zO4MoO2aDEtc",
        "colab_type": "text"
      },
      "source": [
        "O conceito de operações lógicas é muito simples. Elas permitem que os programas tomem decisões com base em condições.\n",
        "\n",
        "Se você tem familiaridade com eletrônica, notará que as principais operações lógicas são implementadas em portas lógicas. \n",
        "\n",
        "Podemos escrever uma série de instruções complexas utilizando as operações lógicas, vamos conhecer algumas delas?"
      ]
    },
    {
      "cell_type": "markdown",
      "metadata": {
        "id": "8tYVfZw3DHZ7",
        "colab_type": "text"
      },
      "source": [
        "### As palavras chave `and`, `or`, `not`"
      ]
    },
    {
      "cell_type": "markdown",
      "metadata": {
        "id": "_jVf8I2SDJpY",
        "colab_type": "text"
      },
      "source": [
        "Existem três operações lógicas básicas que você precisa conhecer, e são elas: __and__, __not__ e __or__.\n",
        "\n",
        "Assim como as operações relacionais, o resultado de cada operação é um valor lógico.\n"
      ]
    },
    {
      "cell_type": "markdown",
      "metadata": {
        "id": "VWYJbfyWDL3w",
        "colab_type": "text"
      },
      "source": [
        "Vamos estudar um pouco sobre cada operação?\n",
        "\n",
        "A primeira delas é a __and__. No Python utilizamos a palavra chave `and` para realizar a operação (em outras LPs, utilizamos outros símbolos, como por exemplo `&&`). \n",
        "\n",
        "O resultado da operação __and__ só retorna verdadeiro caso os dois operandos também sejam verdadeiros. Veja:"
      ]
    },
    {
      "cell_type": "code",
      "metadata": {
        "id": "KA3wIQ09DLV_",
        "colab_type": "code",
        "colab": {
          "base_uri": "https://localhost:8080/",
          "height": 34
        },
        "outputId": "747b12af-363b-4d44-dfb1-7a0882370ace"
      },
      "source": [
        "True and True"
      ],
      "execution_count": null,
      "outputs": [
        {
          "output_type": "execute_result",
          "data": {
            "text/plain": [
              "True"
            ]
          },
          "metadata": {
            "tags": []
          },
          "execution_count": 20
        }
      ]
    },
    {
      "cell_type": "code",
      "metadata": {
        "id": "Exzw0eviDDIn",
        "colab_type": "code",
        "colab": {
          "base_uri": "https://localhost:8080/",
          "height": 34
        },
        "outputId": "a19ee308-a175-4fa8-cd74-4dc4cd11345d"
      },
      "source": [
        "True and False"
      ],
      "execution_count": null,
      "outputs": [
        {
          "output_type": "execute_result",
          "data": {
            "text/plain": [
              "False"
            ]
          },
          "metadata": {
            "tags": []
          },
          "execution_count": 21
        }
      ]
    },
    {
      "cell_type": "code",
      "metadata": {
        "id": "PoFyXX9GDOyn",
        "colab_type": "code",
        "colab": {
          "base_uri": "https://localhost:8080/",
          "height": 34
        },
        "outputId": "40bf721e-0f9b-4266-82b1-90c08ca83d6b"
      },
      "source": [
        "False and True"
      ],
      "execution_count": null,
      "outputs": [
        {
          "output_type": "execute_result",
          "data": {
            "text/plain": [
              "False"
            ]
          },
          "metadata": {
            "tags": []
          },
          "execution_count": 12
        }
      ]
    },
    {
      "cell_type": "code",
      "metadata": {
        "id": "5BSijIQUDO05",
        "colab_type": "code",
        "colab": {
          "base_uri": "https://localhost:8080/",
          "height": 34
        },
        "outputId": "9467b6e4-c70e-4abd-93e5-11265b43978d"
      },
      "source": [
        "False and False"
      ],
      "execution_count": null,
      "outputs": [
        {
          "output_type": "execute_result",
          "data": {
            "text/plain": [
              "False"
            ]
          },
          "metadata": {
            "tags": []
          },
          "execution_count": 11
        }
      ]
    },
    {
      "cell_type": "markdown",
      "metadata": {
        "id": "OQLQVqRtIS1u",
        "colab_type": "text"
      },
      "source": [
        "Isso significa que podemos testar se duas (ou mais) situações são verdadeiras na programação. Você verá que isso é muito útil.\n",
        "\n",
        "Vamos complicar um pouco, vou colocar as operações relacionais junto com as operações lógicas, olha só:"
      ]
    },
    {
      "cell_type": "code",
      "metadata": {
        "id": "H8iQDmJ3IV20",
        "colab_type": "code",
        "colab": {
          "base_uri": "https://localhost:8080/",
          "height": 34
        },
        "outputId": "a3457501-3786-4314-8d11-b7e4136629bd"
      },
      "source": [
        "# 9 é positivo E o resto da divisão de 4 com 2 é igual a 0?\n",
        "(9 > 0) and (4 % 2 == 0)"
      ],
      "execution_count": null,
      "outputs": [
        {
          "output_type": "execute_result",
          "data": {
            "text/plain": [
              "True"
            ]
          },
          "metadata": {
            "tags": []
          },
          "execution_count": 14
        }
      ]
    },
    {
      "cell_type": "code",
      "metadata": {
        "id": "B_K0tSZ3IWZQ",
        "colab_type": "code",
        "colab": {
          "base_uri": "https://localhost:8080/",
          "height": 34
        },
        "outputId": "9be0df06-87a4-4e30-b8bd-23a74528d56b"
      },
      "source": [
        "# 4 é maior ou igual a 4 E 2 é diferente de 2?\n",
        "(4 >= 4) and (2 != 2)"
      ],
      "execution_count": null,
      "outputs": [
        {
          "output_type": "execute_result",
          "data": {
            "text/plain": [
              "False"
            ]
          },
          "metadata": {
            "tags": []
          },
          "execution_count": 15
        }
      ]
    },
    {
      "cell_type": "code",
      "metadata": {
        "id": "qzkNcMYzIWfz",
        "colab_type": "code",
        "colab": {
          "base_uri": "https://localhost:8080/",
          "height": 34
        },
        "outputId": "183a0827-fffd-4fd9-f5d2-81217364a13f"
      },
      "source": [
        "# 4 é menor que três E 2 elevado a três é igual a 8?\n",
        "(4 < 3) and ((2**3) == 8)"
      ],
      "execution_count": null,
      "outputs": [
        {
          "output_type": "execute_result",
          "data": {
            "text/plain": [
              "False"
            ]
          },
          "metadata": {
            "tags": []
          },
          "execution_count": 16
        }
      ]
    },
    {
      "cell_type": "code",
      "metadata": {
        "id": "E9llfvBHIWmE",
        "colab_type": "code",
        "colab": {
          "base_uri": "https://localhost:8080/",
          "height": 34
        },
        "outputId": "cc1abf2e-646c-47ba-adf2-2a13b41bf2f8"
      },
      "source": [
        "# 1 é maior que 9999 E 987 menos 986 é negativo?\n",
        "(1 > 9999) and ((987 - 986) < 0)"
      ],
      "execution_count": null,
      "outputs": [
        {
          "output_type": "execute_result",
          "data": {
            "text/plain": [
              "False"
            ]
          },
          "metadata": {
            "tags": []
          },
          "execution_count": 17
        }
      ]
    },
    {
      "cell_type": "markdown",
      "metadata": {
        "id": "SrLYfDFvIbXo",
        "colab_type": "text"
      },
      "source": [
        "A operação __or__ funciona de maneira parecida, mas se qualquer um dos operandos for verdadeiro, o resultado da operação vai ser verdadeiro, olha só:"
      ]
    },
    {
      "cell_type": "code",
      "metadata": {
        "id": "QKGOA4sgIhRY",
        "colab_type": "code",
        "colab": {
          "base_uri": "https://localhost:8080/",
          "height": 34
        },
        "outputId": "baa8b77a-c012-44bf-f4a6-841951195ce3"
      },
      "source": [
        "True or True"
      ],
      "execution_count": null,
      "outputs": [
        {
          "output_type": "execute_result",
          "data": {
            "text/plain": [
              "True"
            ]
          },
          "metadata": {
            "tags": []
          },
          "execution_count": 18
        }
      ]
    },
    {
      "cell_type": "code",
      "metadata": {
        "id": "xusgvqXaIhVd",
        "colab_type": "code",
        "colab": {
          "base_uri": "https://localhost:8080/",
          "height": 34
        },
        "outputId": "9761c7c2-7fd3-4abd-d617-e1d106d410c8"
      },
      "source": [
        "True or False"
      ],
      "execution_count": null,
      "outputs": [
        {
          "output_type": "execute_result",
          "data": {
            "text/plain": [
              "True"
            ]
          },
          "metadata": {
            "tags": []
          },
          "execution_count": 19
        }
      ]
    },
    {
      "cell_type": "code",
      "metadata": {
        "id": "EirSDgwqIhaX",
        "colab_type": "code",
        "colab": {
          "base_uri": "https://localhost:8080/",
          "height": 34
        },
        "outputId": "615b4edd-f35f-4195-d348-bbdd6139f9e0"
      },
      "source": [
        "False or True"
      ],
      "execution_count": null,
      "outputs": [
        {
          "output_type": "execute_result",
          "data": {
            "text/plain": [
              "True"
            ]
          },
          "metadata": {
            "tags": []
          },
          "execution_count": 20
        }
      ]
    },
    {
      "cell_type": "code",
      "metadata": {
        "id": "PI1ANiT-IhfM",
        "colab_type": "code",
        "colab": {
          "base_uri": "https://localhost:8080/",
          "height": 34
        },
        "outputId": "160b112b-979e-45a6-ba9f-905f909fe3c9"
      },
      "source": [
        "False or False"
      ],
      "execution_count": null,
      "outputs": [
        {
          "output_type": "execute_result",
          "data": {
            "text/plain": [
              "False"
            ]
          },
          "metadata": {
            "tags": []
          },
          "execution_count": 21
        }
      ]
    },
    {
      "cell_type": "markdown",
      "metadata": {
        "id": "H7ilpVYxLJQ-",
        "colab_type": "text"
      },
      "source": [
        "Complicando um pouco..."
      ]
    },
    {
      "cell_type": "code",
      "metadata": {
        "id": "ejNV0ZfoLJjJ",
        "colab_type": "code",
        "colab": {
          "base_uri": "https://localhost:8080/",
          "height": 34
        },
        "outputId": "c25dbcba-b9d9-415a-be4b-65c7a711eb17"
      },
      "source": [
        "# 9 é positivo OU o resto da divisão de 4 com 2 é igual a 0?\n",
        "(9 > 0) or (4 % 2 == 0)"
      ],
      "execution_count": null,
      "outputs": [
        {
          "output_type": "execute_result",
          "data": {
            "text/plain": [
              "True"
            ]
          },
          "metadata": {
            "tags": []
          },
          "execution_count": 22
        }
      ]
    },
    {
      "cell_type": "code",
      "metadata": {
        "id": "HEUpc5wnLKBF",
        "colab_type": "code",
        "colab": {
          "base_uri": "https://localhost:8080/",
          "height": 34
        },
        "outputId": "e792ac90-3152-44f1-cf74-114b6da092c4"
      },
      "source": [
        "# 4 é maior ou igual a 4 OU 2 é diferente de 2?\n",
        "(4 >= 4) or (2 != 2)"
      ],
      "execution_count": null,
      "outputs": [
        {
          "output_type": "execute_result",
          "data": {
            "text/plain": [
              "True"
            ]
          },
          "metadata": {
            "tags": []
          },
          "execution_count": 23
        }
      ]
    },
    {
      "cell_type": "code",
      "metadata": {
        "id": "BaMOexJnLKG8",
        "colab_type": "code",
        "colab": {
          "base_uri": "https://localhost:8080/",
          "height": 34
        },
        "outputId": "af50da20-bb1c-462a-8cea-505ec8b15805"
      },
      "source": [
        "# 4 é menor que três OU 2 elevado a três é igual a 8?\n",
        "(4 < 3) or ((2**3) == 8)"
      ],
      "execution_count": null,
      "outputs": [
        {
          "output_type": "execute_result",
          "data": {
            "text/plain": [
              "True"
            ]
          },
          "metadata": {
            "tags": []
          },
          "execution_count": 25
        }
      ]
    },
    {
      "cell_type": "code",
      "metadata": {
        "id": "Jn_Zy9FWLKMs",
        "colab_type": "code",
        "colab": {
          "base_uri": "https://localhost:8080/",
          "height": 34
        },
        "outputId": "df01d289-5c08-49aa-adb0-d166fa226951"
      },
      "source": [
        "# 1 é maior que 9999 OU 987 menos 986 é negativo?\n",
        "(1 > 9999) or ((987 - 986) < 0)"
      ],
      "execution_count": null,
      "outputs": [
        {
          "output_type": "execute_result",
          "data": {
            "text/plain": [
              "False"
            ]
          },
          "metadata": {
            "tags": []
          },
          "execution_count": 24
        }
      ]
    },
    {
      "cell_type": "markdown",
      "metadata": {
        "id": "FJHTY4n4LRsI",
        "colab_type": "text"
      },
      "source": [
        "Também podemos negar algo se colocarmos a palavra chave ```not``` antes da expressão, por exemplo:"
      ]
    },
    {
      "cell_type": "code",
      "metadata": {
        "id": "s0uUjZToLSPC",
        "colab_type": "code",
        "colab": {
          "base_uri": "https://localhost:8080/",
          "height": 34
        },
        "outputId": "f2b7aea2-f129-44ad-c587-111b4012c9aa"
      },
      "source": [
        "not False"
      ],
      "execution_count": null,
      "outputs": [
        {
          "output_type": "execute_result",
          "data": {
            "text/plain": [
              "True"
            ]
          },
          "metadata": {
            "tags": []
          },
          "execution_count": 26
        }
      ]
    },
    {
      "cell_type": "code",
      "metadata": {
        "id": "olZ5P4NmLSTp",
        "colab_type": "code",
        "colab": {
          "base_uri": "https://localhost:8080/",
          "height": 34
        },
        "outputId": "3a67134f-3f25-416d-ca87-548c8f670b0f"
      },
      "source": [
        "not (3 > 2)"
      ],
      "execution_count": null,
      "outputs": [
        {
          "output_type": "execute_result",
          "data": {
            "text/plain": [
              "False"
            ]
          },
          "metadata": {
            "tags": []
          },
          "execution_count": 27
        }
      ]
    },
    {
      "cell_type": "markdown",
      "metadata": {
        "id": "4bc-2CW2B4eP",
        "colab_type": "text"
      },
      "source": [
        "## Operações com Strings"
      ]
    },
    {
      "cell_type": "markdown",
      "metadata": {
        "id": "qS6c1BLRLbvo",
        "colab_type": "text"
      },
      "source": [
        "Frequentemente precisamos trabalhar com strings na programação. Strings significam cadeia de caracteres, ou seja, uma sequência de caracteres.\n",
        "\n",
        "Para escrever frases, palavras e armazenar esse dados em algum lugar, precisamos conhecer um pouco sobre esse tipo de dado."
      ]
    },
    {
      "cell_type": "code",
      "metadata": {
        "id": "NSgcgwIbLsEs",
        "colab_type": "code",
        "colab": {}
      },
      "source": [
        "\"Uma string\""
      ],
      "execution_count": null,
      "outputs": []
    },
    {
      "cell_type": "code",
      "metadata": {
        "id": "VcazFRCQLt1q",
        "colab_type": "code",
        "colab": {}
      },
      "source": [
        "'Outro exemplo de string'"
      ],
      "execution_count": null,
      "outputs": []
    },
    {
      "cell_type": "markdown",
      "metadata": {
        "id": "dLQMqu84CFJn",
        "colab_type": "text"
      },
      "source": [
        "### Aspas simples ou duplas?"
      ]
    },
    {
      "cell_type": "markdown",
      "metadata": {
        "id": "uAM5vVzBLxNX",
        "colab_type": "text"
      },
      "source": [
        "Tanto faz trabalhar com aspas simples ou duplas, mas é recomendado escolher um padrão e adotar ele em todo o seu programa.\n",
        "\n",
        "Muitas linguagens de programação permitem apenas as aspas duplas para definir strings, enquanto as aspas simples são utilizadas apenas para definir um único caractere.\n",
        "\n",
        "Por exemplo,\n",
        "`'a'` \n",
        "e\n",
        "`\"olá\"`\n",
        "\n",
        "Mas no Python podemos escolher qualquer uma das duas.\n",
        "\n",
        "A dica que deixo é utilizar as aspas simples, por ser mais simples, e por possibilitar a escrita das aspas mais internas em uma frase.\n",
        "\n",
        "Por exemplo:"
      ]
    },
    {
      "cell_type": "code",
      "metadata": {
        "id": "oBbHqEVCMNnc",
        "colab_type": "code",
        "colab": {
          "base_uri": "https://localhost:8080/",
          "height": 34
        },
        "outputId": "8ae49dfa-2f97-47bd-b288-9c5bff90f81b"
      },
      "source": [
        "print('E o joãozinho disse: \"Mas como professora como vou resolver esse exercício?\"')"
      ],
      "execution_count": null,
      "outputs": [
        {
          "output_type": "stream",
          "text": [
            "E o joãozinho disse: \"Mas como professora como vou resolver esse exercício?\"\n"
          ],
          "name": "stdout"
        }
      ]
    },
    {
      "cell_type": "markdown",
      "metadata": {
        "id": "TlvwWP90MalQ",
        "colab_type": "text"
      },
      "source": [
        "Se você escrever com aspas duplas e precisar utilizar esse símbolo no meio da frase, não tem problema. Podemos usar o caractere de escape `\\`:"
      ]
    },
    {
      "cell_type": "code",
      "metadata": {
        "id": "bOpa0RIwMhLq",
        "colab_type": "code",
        "colab": {
          "base_uri": "https://localhost:8080/",
          "height": 34
        },
        "outputId": "b01caa49-7a97-46c3-da83-9443da4e128b"
      },
      "source": [
        "print(\"E o joãozinho disse: \\\"Mas como professora como vou resolver esse exercício?\\\"\")"
      ],
      "execution_count": null,
      "outputs": [
        {
          "output_type": "stream",
          "text": [
            "E o joãozinho disse: \"Mas como professora como vou resolver esse exercício?\"\n"
          ],
          "name": "stdout"
        }
      ]
    },
    {
      "cell_type": "markdown",
      "metadata": {
        "id": "r255l9UwCYDw",
        "colab_type": "text"
      },
      "source": [
        "### Formatando texto"
      ]
    },
    {
      "cell_type": "markdown",
      "metadata": {
        "id": "WwL8miSRMsTH",
        "colab_type": "text"
      },
      "source": [
        "Formatar o texto é muito importante, porque as vezes precisamos mostrar na tela números ou outros dados de forma mais amigável.\n",
        "\n",
        "Em Python podemos usar os recursos de formatação."
      ]
    },
    {
      "cell_type": "code",
      "metadata": {
        "id": "n_n2B1ayM6PY",
        "colab_type": "code",
        "colab": {
          "base_uri": "https://localhost:8080/",
          "height": 34
        },
        "outputId": "e7151ab1-5e9d-48f9-f0b5-b8270f9d686a"
      },
      "source": [
        "print(777/7776)"
      ],
      "execution_count": null,
      "outputs": [
        {
          "output_type": "stream",
          "text": [
            "0.09992283950617284\n"
          ],
          "name": "stdout"
        }
      ]
    },
    {
      "cell_type": "markdown",
      "metadata": {
        "id": "5G7MRPpRNW3i",
        "colab_type": "text"
      },
      "source": [
        "Ficaria melhor se:"
      ]
    },
    {
      "cell_type": "code",
      "metadata": {
        "id": "S2Zrd8aVNKH5",
        "colab_type": "code",
        "colab": {
          "base_uri": "https://localhost:8080/",
          "height": 34
        },
        "outputId": "cafe2d57-cdd2-4fe5-ad2d-d0fa67cc94b7"
      },
      "source": [
        "print(\"{:.4f}\".format(777/7776))"
      ],
      "execution_count": null,
      "outputs": [
        {
          "output_type": "stream",
          "text": [
            "0.0999\n"
          ],
          "name": "stdout"
        }
      ]
    },
    {
      "cell_type": "code",
      "metadata": {
        "id": "6_zTBEf6OTgg",
        "colab_type": "code",
        "colab": {
          "base_uri": "https://localhost:8080/",
          "height": 34
        },
        "outputId": "812de33b-19db-44c8-ef59-6fb6bf82ec95"
      },
      "source": [
        "print(\"Hoje temos {:.0%} de chance de chuva!\".format(0.25))"
      ],
      "execution_count": null,
      "outputs": [
        {
          "output_type": "stream",
          "text": [
            "Hoje temos 25% de chance de chuva!\n"
          ],
          "name": "stdout"
        }
      ]
    },
    {
      "cell_type": "code",
      "metadata": {
        "id": "BogOyS2-Oudg",
        "colab_type": "code",
        "colab": {
          "base_uri": "https://localhost:8080/",
          "height": 34
        },
        "outputId": "0394018c-3656-431e-e824-158d53e6a009"
      },
      "source": [
        "print(\"{valor1} + {valor2} = {resultado}\".format(valor1=1, valor2=4, resultado=1+4))"
      ],
      "execution_count": null,
      "outputs": [
        {
          "output_type": "stream",
          "text": [
            "1 + 4 = 5\n"
          ],
          "name": "stdout"
        }
      ]
    },
    {
      "cell_type": "code",
      "metadata": {
        "id": "Vbu1336MO7aD",
        "colab_type": "code",
        "colab": {
          "base_uri": "https://localhost:8080/",
          "height": 34
        },
        "outputId": "1f53b1ab-8ed7-414c-e58f-dbcd679e1218"
      },
      "source": [
        "print(f\"1 - 5 = {1-5}\")"
      ],
      "execution_count": null,
      "outputs": [
        {
          "output_type": "stream",
          "text": [
            "1 - 5 = -4\n"
          ],
          "name": "stdout"
        }
      ]
    },
    {
      "cell_type": "markdown",
      "metadata": {
        "id": "77nVvIyFBeTE",
        "colab_type": "text"
      },
      "source": [
        "## Conversão de dados\n",
        "\n",
        "Às vezes precisamos converter dados, por exemplo, quando temos uma string e precisamos dizer ao Python que se trata de um número."
      ]
    },
    {
      "cell_type": "code",
      "metadata": {
        "id": "sNFJHj6kPpyc",
        "colab_type": "code",
        "colab": {}
      },
      "source": [
        "# \"4\" + \"4\" não dará o resultado esperado"
      ],
      "execution_count": null,
      "outputs": []
    },
    {
      "cell_type": "code",
      "metadata": {
        "id": "rUcCX-NDPtGs",
        "colab_type": "code",
        "colab": {
          "base_uri": "https://localhost:8080/",
          "height": 35
        },
        "outputId": "088b81c6-5cbe-47d4-9449-1cc157a62522"
      },
      "source": [
        "\"4\" + \"4\""
      ],
      "execution_count": null,
      "outputs": [
        {
          "output_type": "execute_result",
          "data": {
            "application/vnd.google.colaboratory.intrinsic": {
              "type": "string"
            },
            "text/plain": [
              "'44'"
            ]
          },
          "metadata": {
            "tags": []
          },
          "execution_count": 27
        }
      ]
    },
    {
      "cell_type": "code",
      "metadata": {
        "id": "tSsdmK2dPmgG",
        "colab_type": "code",
        "colab": {
          "base_uri": "https://localhost:8080/",
          "height": 34
        },
        "outputId": "7ebb391b-5a93-4d4a-85cc-60c0c4c0e067"
      },
      "source": [
        "int(\"4\") + int(\"4\")"
      ],
      "execution_count": null,
      "outputs": [
        {
          "output_type": "execute_result",
          "data": {
            "text/plain": [
              "8"
            ]
          },
          "metadata": {
            "tags": []
          },
          "execution_count": 28
        }
      ]
    },
    {
      "cell_type": "code",
      "metadata": {
        "id": "oXS7GR25P2q_",
        "colab_type": "code",
        "colab": {
          "base_uri": "https://localhost:8080/",
          "height": 34
        },
        "outputId": "c70a9192-9730-431f-eb99-8199b22b4c71"
      },
      "source": [
        "float(10)"
      ],
      "execution_count": null,
      "outputs": [
        {
          "output_type": "execute_result",
          "data": {
            "text/plain": [
              "10.0"
            ]
          },
          "metadata": {
            "tags": []
          },
          "execution_count": 29
        }
      ]
    },
    {
      "cell_type": "code",
      "metadata": {
        "id": "2KlVBmBtQBU2",
        "colab_type": "code",
        "colab": {
          "base_uri": "https://localhost:8080/",
          "height": 34
        },
        "outputId": "73d77614-0854-472c-8e7d-d6d53120153f"
      },
      "source": [
        "int(3.14)"
      ],
      "execution_count": null,
      "outputs": [
        {
          "output_type": "execute_result",
          "data": {
            "text/plain": [
              "3"
            ]
          },
          "metadata": {
            "tags": []
          },
          "execution_count": 30
        }
      ]
    },
    {
      "cell_type": "code",
      "metadata": {
        "id": "Gn7FBx_AQESN",
        "colab_type": "code",
        "colab": {
          "base_uri": "https://localhost:8080/",
          "height": 34
        },
        "outputId": "4fdb2fdc-ce7f-4521-91af-aa3d3343e1cd"
      },
      "source": [
        "bool(0)"
      ],
      "execution_count": null,
      "outputs": [
        {
          "output_type": "execute_result",
          "data": {
            "text/plain": [
              "False"
            ]
          },
          "metadata": {
            "tags": []
          },
          "execution_count": 31
        }
      ]
    },
    {
      "cell_type": "code",
      "metadata": {
        "id": "mTOh1_-VQGwZ",
        "colab_type": "code",
        "colab": {
          "base_uri": "https://localhost:8080/",
          "height": 34
        },
        "outputId": "fcf604be-bbb9-412e-e1f3-4ae728b8d4df"
      },
      "source": [
        "bool(2)"
      ],
      "execution_count": null,
      "outputs": [
        {
          "output_type": "execute_result",
          "data": {
            "text/plain": [
              "True"
            ]
          },
          "metadata": {
            "tags": []
          },
          "execution_count": 32
        }
      ]
    },
    {
      "cell_type": "markdown",
      "metadata": {
        "id": "I8L46AxOJA5Z",
        "colab_type": "text"
      },
      "source": [
        "## Variáveis"
      ]
    },
    {
      "cell_type": "markdown",
      "metadata": {
        "id": "G5zHHRFEJCpH",
        "colab_type": "text"
      },
      "source": [
        "Imagine a situação: você faz um cálculo enorme e precisa armazená-lo em algum lugar para depois utilizar esse resultado, ou ainda, você cria um formulário web para cadastrar os dados de uma pessoa, e é necessário salvar esses dados, como você faz?\n",
        "\n",
        "A resposta para esse problema é __variáveis__. Variáveis são muito úteis na programação, porque elas podem armazenar quase qualquer coisa que precisamos. Para isso, usamos o símbolo de atribuição `=`. Olha só:"
      ]
    },
    {
      "cell_type": "code",
      "metadata": {
        "id": "8gtWgSUHJEBV",
        "colab_type": "code",
        "colab": {}
      },
      "source": [
        "resultado = None"
      ],
      "execution_count": null,
      "outputs": []
    },
    {
      "cell_type": "code",
      "metadata": {
        "id": "T3a2d4sYJFck",
        "colab_type": "code",
        "colab": {
          "base_uri": "https://localhost:8080/",
          "height": 34
        },
        "outputId": "7a2098f1-d078-4c50-b502-63bb27d693a9"
      },
      "source": [
        "resultado = 4 + 1\n",
        "resultado"
      ],
      "execution_count": null,
      "outputs": [
        {
          "output_type": "execute_result",
          "data": {
            "text/plain": [
              "5"
            ]
          },
          "metadata": {
            "tags": []
          },
          "execution_count": 28
        }
      ]
    },
    {
      "cell_type": "code",
      "metadata": {
        "id": "Lv6cUiLKJH0y",
        "colab_type": "code",
        "colab": {
          "base_uri": "https://localhost:8080/",
          "height": 34
        },
        "outputId": "4c9e6dde-3d6a-4386-f9db-59b99083b6be"
      },
      "source": [
        "alguma_variavel = True or (4 < 3)\n",
        "alguma_variavel"
      ],
      "execution_count": null,
      "outputs": [
        {
          "output_type": "execute_result",
          "data": {
            "text/plain": [
              "True"
            ]
          },
          "metadata": {
            "tags": []
          },
          "execution_count": 30
        }
      ]
    },
    {
      "cell_type": "markdown",
      "metadata": {
        "id": "Oxfy081AJJZY",
        "colab_type": "text"
      },
      "source": [
        "**Variável é um item de dado que pode armazenar um ou mais valores durante a execução de um programa**"
      ]
    },
    {
      "cell_type": "markdown",
      "metadata": {
        "id": "9YvGXxSNJK37",
        "colab_type": "text"
      },
      "source": [
        "O nome da variável se chama identificador. Existem algumas regras para criar nomes (identificadores), e você deve segui-las. Veja:\n",
        "\n",
        "1.   Os identificadores não podem ser palavras-chave. Por exemplo `while = 4` não é permitido.  \n",
        "2.   Os identificadores não podem começar com caracteres especiais ou números, por exemplo `@var` e `1var` não são permitidas.\n",
        "3.   Hífens não são permitidos em identificadores, por exemplo, `var-1`.\n",
        "4.   Qualquer outra combinação de caracteres é permitida, por exemplo, `var1` e `resultado_2` são permitidas. "
      ]
    },
    {
      "cell_type": "markdown",
      "metadata": {
        "id": "wYuaFrXDJMsz",
        "colab_type": "text"
      },
      "source": [
        "*__Atenção__: o Python diferencia maiúsculas de minúsculas, veja:*"
      ]
    },
    {
      "cell_type": "code",
      "metadata": {
        "id": "dbfcfCLkJM2i",
        "colab_type": "code",
        "colab": {}
      },
      "source": [
        "# O Python diferencia maiusculas de minusculas por isso True e true representam \n",
        "# coisas diferentes, por exemplo:\n",
        "\n",
        "true = 5\n",
        "true == True"
      ],
      "execution_count": null,
      "outputs": []
    },
    {
      "cell_type": "markdown",
      "metadata": {
        "id": "dwbV6JDrJS6y",
        "colab_type": "text"
      },
      "source": [
        "#### Atribuindo valores"
      ]
    },
    {
      "cell_type": "markdown",
      "metadata": {
        "id": "XjhBaf5GJUse",
        "colab_type": "text"
      },
      "source": [
        "Agora que você já conhece algumas operações básicas e o conceito de variáveis, vamos estudar um pouco sobre como armazenar esses valores em uma variável.\n",
        "\n",
        "O método mais fácil e comum é a atribuição. Ela é feita com o valor de igual (`=`). Você já deve ter se familiarizado com essa operação, basta colocar a variável antes do símbolo de atribuição, e em seguida um valor correspondente."
      ]
    },
    {
      "cell_type": "code",
      "metadata": {
        "id": "JFnmMk3eJWJ9",
        "colab_type": "code",
        "colab": {
          "base_uri": "https://localhost:8080/",
          "height": 34
        },
        "outputId": "9d71e9d7-fd10-4889-82bb-574dbb736244"
      },
      "source": [
        "var = 5              # Cria uma variavel e atribui um valor a ela\n",
        "var    "
      ],
      "execution_count": null,
      "outputs": [
        {
          "output_type": "execute_result",
          "data": {
            "text/plain": [
              "5"
            ]
          },
          "metadata": {
            "tags": []
          },
          "execution_count": 31
        }
      ]
    },
    {
      "cell_type": "markdown",
      "metadata": {
        "id": "lmsWPHOiJYo0",
        "colab_type": "text"
      },
      "source": [
        "Agora imagine que você queira adicionar um valor a `var`, teríamos:"
      ]
    },
    {
      "cell_type": "code",
      "metadata": {
        "id": "Gs-zPR6gJXMA",
        "colab_type": "code",
        "colab": {
          "base_uri": "https://localhost:8080/",
          "height": 34
        },
        "outputId": "051194d6-cf69-4ffb-d782-6379ef4ebb71"
      },
      "source": [
        "var = 5              # Cria uma variavel e atribui um valor a ela\n",
        "var + 2              # Adiciona 2 a variavel\n",
        "var"
      ],
      "execution_count": null,
      "outputs": [
        {
          "output_type": "execute_result",
          "data": {
            "text/plain": [
              "5"
            ]
          },
          "metadata": {
            "tags": []
          },
          "execution_count": 33
        }
      ]
    },
    {
      "cell_type": "markdown",
      "metadata": {
        "id": "C5jDM019Jae6",
        "colab_type": "text"
      },
      "source": [
        "Perceba que o valor foi adicionado a variável, mas não atribuimos ela a `var` novamente, por isso o valor da variável não mudou. __Isso é um erro comum__, cuidado!"
      ]
    },
    {
      "cell_type": "code",
      "metadata": {
        "id": "v-JxT2S8JdDb",
        "colab_type": "code",
        "colab": {
          "base_uri": "https://localhost:8080/",
          "height": 34
        },
        "outputId": "1f783de7-2994-4b33-f467-6af8e8a93523"
      },
      "source": [
        "var = 5             # Cria a variavel\n",
        "var = var + 2       # Adiciona o valor e atribui o resultado a variavel\n",
        "var"
      ],
      "execution_count": null,
      "outputs": [
        {
          "output_type": "execute_result",
          "data": {
            "text/plain": [
              "7"
            ]
          },
          "metadata": {
            "tags": []
          },
          "execution_count": 34
        }
      ]
    },
    {
      "cell_type": "code",
      "metadata": {
        "id": "nmEuivPhJeGi",
        "colab_type": "code",
        "colab": {
          "base_uri": "https://localhost:8080/",
          "height": 34
        },
        "outputId": "1a54d980-fbc6-44c2-8db1-afafef1479a9"
      },
      "source": [
        "var = 5             # Cria a variavel\n",
        "var += 2            # O mesmo que var = var + 2\n",
        "var"
      ],
      "execution_count": null,
      "outputs": [
        {
          "output_type": "execute_result",
          "data": {
            "text/plain": [
              "7"
            ]
          },
          "metadata": {
            "tags": []
          },
          "execution_count": 35
        }
      ]
    },
    {
      "cell_type": "code",
      "metadata": {
        "id": "95UmW8XJJe-3",
        "colab_type": "code",
        "colab": {
          "base_uri": "https://localhost:8080/",
          "height": 34
        },
        "outputId": "aee39cd7-b056-4dae-9de0-24264eac002d"
      },
      "source": [
        "var = 5             # Cria a variavel\n",
        "var *= 2            # O mesmo que var = var + 2\n",
        "var"
      ],
      "execution_count": null,
      "outputs": [
        {
          "output_type": "execute_result",
          "data": {
            "text/plain": [
              "10"
            ]
          },
          "metadata": {
            "tags": []
          },
          "execution_count": 36
        }
      ]
    },
    {
      "cell_type": "markdown",
      "metadata": {
        "id": "UVjbmyq8QN-4",
        "colab_type": "text"
      },
      "source": [
        "## Utilização do CLI\n",
        "\n",
        "O CLI do Python é um ambiente de execução interativo. Ele pode ser usado para executar um código pequeno no Python e realizar atividades básicas, sem a necessidade de criar um script."
      ]
    },
    {
      "cell_type": "markdown",
      "metadata": {
        "id": "IYZ8hogAQdqV",
        "colab_type": "text"
      },
      "source": [
        "**Abra o terminal (Command Promp) e digite `python`. Teste alguns códigos que você aprendeu hoje.**"
      ]
    },
    {
      "cell_type": "markdown",
      "metadata": {
        "id": "OYWr1B1bQrvE",
        "colab_type": "text"
      },
      "source": [
        "```\n",
        ">>> print(\"Olá\")\n",
        "Olá\n",
        ">>> \n",
        "```"
      ]
    },
    {
      "cell_type": "markdown",
      "metadata": {
        "id": "oXIPGFpJQ1JJ",
        "colab_type": "text"
      },
      "source": [
        "## Criando um programa"
      ]
    },
    {
      "cell_type": "markdown",
      "metadata": {
        "id": "O0s5gebQQ6eZ",
        "colab_type": "text"
      },
      "source": [
        "Muitas vezes precisamos executar um programa mais complexo. Nesses casos é legal criar um script para executá-lo depois."
      ]
    },
    {
      "cell_type": "markdown",
      "metadata": {
        "id": "14cgpDCIQ3Ia",
        "colab_type": "text"
      },
      "source": [
        "**Abra um editor de texto em seu computador e salve-o com a extensão .py. Execute o programa pelo terminal da seguinte forma: `python <nome-do-programa>.py`**\n",
        "\n",
        "**Crie um script com os conteúdos que você aprendeu até aqui e execute-o em seu computador**."
      ]
    }
  ]
}