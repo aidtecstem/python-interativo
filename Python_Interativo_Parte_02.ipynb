{
  "nbformat": 4,
  "nbformat_minor": 0,
  "metadata": {
    "colab": {
      "name": "Python Interativo - Parte 02.ipynb",
      "provenance": [],
      "collapsed_sections": [],
      "toc_visible": true,
      "include_colab_link": true
    },
    "kernelspec": {
      "name": "python3",
      "display_name": "Python 3"
    }
  },
  "cells": [
    {
      "cell_type": "markdown",
      "metadata": {
        "id": "view-in-github",
        "colab_type": "text"
      },
      "source": [
        "<a href=\"https://colab.research.google.com/github/aidtecstem/python-interativo/blob/master/Python_Interativo_Parte_02.ipynb\" target=\"_parent\"><img src=\"https://colab.research.google.com/assets/colab-badge.svg\" alt=\"Open In Colab\"/></a>"
      ]
    },
    {
      "cell_type": "markdown",
      "metadata": {
        "id": "_xISJe1qEv28"
      },
      "source": [
        "# Python Interativo\n",
        "\n",
        "## Funções [*built-in*](https://docs.python.org/3/library/functions.html) e E/S\n",
        "\n",
        "Olá. Este notebook irá guiar você no curso Python Iniciante.\n",
        "\n",
        "Neste notebook, iremos aprender um pouco sobre os seguintes tópicos:\n",
        "- Variáveis;\n",
        "- Chamada de funções;\n",
        "- Entrada e saída de dados;\n",
        "- Funções *built-in*.\n",
        "\n",
        "No final, deixo um desafio como tarefa."
      ]
    },
    {
      "cell_type": "markdown",
      "metadata": {
        "id": "Y8GFKUlpj7_4"
      },
      "source": [
        "## Variáveis (recapitulando...)"
      ]
    },
    {
      "cell_type": "markdown",
      "metadata": {
        "id": "yju3LwOBy6yG"
      },
      "source": [
        "![image.png](data:image/png;base64,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)"
      ]
    },
    {
      "cell_type": "markdown",
      "metadata": {
        "id": "vgbTuyuvkqXM"
      },
      "source": [
        "Imagine a situação: você faz um cálculo enorme e precisa armazená-lo em algum lugar para depois utilizar esse resultado, ou ainda, você cria um formulário web para cadastrar os dados de uma pessoa, e é necessário salvar esses dados, como você faz?\n",
        "\n",
        "A resposta para esse problema é __variáveis__. Variáveis são muito úteis na programação, porque elas podem armazenar quase qualquer coisa que precisamos. Para isso, usamos o símbolo de atribuição `=`. Olha só:"
      ]
    },
    {
      "cell_type": "code",
      "metadata": {
        "id": "4YJlCWnaVFL1"
      },
      "source": [
        "resultado = None"
      ],
      "execution_count": null,
      "outputs": []
    },
    {
      "cell_type": "code",
      "metadata": {
        "id": "cbzJL_0Rkrqw",
        "outputId": "d0c800e9-9b74-43db-d89f-4af244239459",
        "colab": {
          "base_uri": "https://localhost:8080/",
          "height": 35
        }
      },
      "source": [
        "resultado = 4 + 1\n",
        "resultado"
      ],
      "execution_count": null,
      "outputs": [
        {
          "output_type": "execute_result",
          "data": {
            "text/plain": [
              "5"
            ]
          },
          "metadata": {
            "tags": []
          },
          "execution_count": 2
        }
      ]
    },
    {
      "cell_type": "code",
      "metadata": {
        "id": "iOlrVOzQkspa",
        "outputId": "069b8a07-82b9-48cd-b56a-a4e3a4f5c19e",
        "colab": {
          "base_uri": "https://localhost:8080/",
          "height": 35
        }
      },
      "source": [
        "alguma_variavel = True or (4 < 3)\n",
        "alguma_variavel"
      ],
      "execution_count": null,
      "outputs": [
        {
          "output_type": "execute_result",
          "data": {
            "text/plain": [
              "True"
            ]
          },
          "metadata": {
            "tags": []
          },
          "execution_count": 3
        }
      ]
    },
    {
      "cell_type": "code",
      "metadata": {
        "id": "GJFL9NTtJGsg"
      },
      "source": [
        ""
      ],
      "execution_count": null,
      "outputs": []
    },
    {
      "cell_type": "markdown",
      "metadata": {
        "id": "o-39boyClqf1"
      },
      "source": [
        "**Variável é um item de dado que pode armazenar um ou mais valores durante a execução de um programa**"
      ]
    },
    {
      "cell_type": "markdown",
      "metadata": {
        "id": "IrDlDCrvkytW"
      },
      "source": [
        "O nome da variável se chama identificador. Existem algumas regras para criar nomes (identificadores), e você deve segui-las. Veja:\n",
        "\n",
        "1.   Os identificadores não podem ser palavras-chave. Por exemplo `while = 4` não é permitido.  \n",
        "2.   Os identificadores não podem começar com caracteres especiais ou números, por exemplo `@var` e `1var` não são permitidas.\n",
        "3.   Hífens não são permitidos em identificadores, por exemplo, `var-1`.\n",
        "4.   Qualquer outra combinação de caracteres é permitida, por exemplo, `var1` e `resultado_2` são permitidas. "
      ]
    },
    {
      "cell_type": "code",
      "metadata": {
        "id": "CVY2C7e7VbVh"
      },
      "source": [
        "resultado_funcao = 1"
      ],
      "execution_count": null,
      "outputs": []
    },
    {
      "cell_type": "markdown",
      "metadata": {
        "id": "rPE0s7glk1KN"
      },
      "source": [
        "*__Atenção__: o Python diferencia maiúsculas de minúsculas, veja:*"
      ]
    },
    {
      "cell_type": "code",
      "metadata": {
        "id": "zLRL5iIskucc",
        "outputId": "88d379f8-719f-4355-aed1-6c47343fa2e1",
        "colab": {
          "base_uri": "https://localhost:8080/",
          "height": 35
        }
      },
      "source": [
        "# O Python diferencia maiusculas de minusculas por isso True e true representam \n",
        "# coisas diferentes, por exemplo:\n",
        "\n",
        "true = 5\n",
        "true == True"
      ],
      "execution_count": null,
      "outputs": [
        {
          "output_type": "execute_result",
          "data": {
            "text/plain": [
              "False"
            ]
          },
          "metadata": {
            "tags": []
          },
          "execution_count": 5
        }
      ]
    },
    {
      "cell_type": "markdown",
      "metadata": {
        "id": "oI6nPUJUk6YW"
      },
      "source": [
        "Eu recomendo que você faça uma rápida leitura nas [convenções do Python](https://www.python.org/dev/peps/pep-0008/#naming-conventions) (são convenções de como codificar adequadamente), principalmente na parte de criar identificadores."
      ]
    },
    {
      "cell_type": "markdown",
      "metadata": {
        "id": "OqQ6mrERk9C9"
      },
      "source": [
        "*__Cuidado__: não tente resolver equações utilizando programação. A linguagem de programação foi feita para realizar instruções que você definir, e não resolver equações matemáticas (você até pode resolver equações desde que programe um algoritmo para isso). Por exemplo:*\n",
        "\n",
        "``` \n",
        "y = 4\n",
        "y = 3 + x\n",
        "print(x)\n",
        "```\n",
        "\n",
        "*Você não terá a resposta de x se quiser, na verdade, é possível que você receba um erro, porque talvez a variável ```x``` nem esteja definida.*"
      ]
    },
    {
      "cell_type": "markdown",
      "metadata": {
        "id": "pz1nLAG6k_IX"
      },
      "source": [
        "#### Atribuindo valores"
      ]
    },
    {
      "cell_type": "markdown",
      "metadata": {
        "id": "4a_lsv6blACn"
      },
      "source": [
        "Agora que você já conhece algumas operações básicas e o conceito de variáveis, vamos estudar um pouco sobre como armazenar esses valores em uma variável.\n",
        "\n",
        "O método mais fácil e comum é a atribuição. Ela é feita com o valor de igual (`=`). Você já deve ter se familiarizado com essa operação, basta colocar a variável antes do símbolo de atribuição, e em seguida um valor correspondente."
      ]
    },
    {
      "cell_type": "code",
      "metadata": {
        "id": "HKz1_xcmlBZP",
        "outputId": "ef681d37-ae60-4ae2-9556-367bfa9d3c9a",
        "colab": {
          "base_uri": "https://localhost:8080/",
          "height": 35
        }
      },
      "source": [
        "var = 5              # Cria uma variavel e atribui um valor a ela\n",
        "var    "
      ],
      "execution_count": null,
      "outputs": [
        {
          "output_type": "execute_result",
          "data": {
            "text/plain": [
              "5"
            ]
          },
          "metadata": {
            "tags": []
          },
          "execution_count": 6
        }
      ]
    },
    {
      "cell_type": "markdown",
      "metadata": {
        "id": "ndwJA8gMlAQL"
      },
      "source": [
        "Agora imagine que você queira adicionar um valor a `var`, teríamos:"
      ]
    },
    {
      "cell_type": "code",
      "metadata": {
        "id": "4AYLbafDlERL",
        "outputId": "1ecefdfc-5ccb-49b4-db3b-100bc913973f",
        "colab": {
          "base_uri": "https://localhost:8080/",
          "height": 35
        }
      },
      "source": [
        "var = 5              # Cria uma variavel e atribui um valor a ela\n",
        "var + 2              # Adiciona 5 a variavel\n",
        "var"
      ],
      "execution_count": null,
      "outputs": [
        {
          "output_type": "execute_result",
          "data": {
            "text/plain": [
              "5"
            ]
          },
          "metadata": {
            "tags": []
          },
          "execution_count": 7
        }
      ]
    },
    {
      "cell_type": "markdown",
      "metadata": {
        "id": "275aIzQulH8x"
      },
      "source": [
        "Perceba que o valor foi adicionado a variável, mas não atribuimos ela a `var` novamente, por isso o valor da variável não mudou. __Isso é um erro comum__, cuidado!"
      ]
    },
    {
      "cell_type": "code",
      "metadata": {
        "id": "bIuZXPu5lFcP",
        "outputId": "d4fc1711-f1f1-4609-dcbc-f376bec70b7c",
        "colab": {
          "base_uri": "https://localhost:8080/",
          "height": 35
        }
      },
      "source": [
        "var = 5             # Cria a variavel\n",
        "var = var + 2       # Adiciona o valor e atribui o resultado a variavel\n",
        "var"
      ],
      "execution_count": null,
      "outputs": [
        {
          "output_type": "execute_result",
          "data": {
            "text/plain": [
              "7"
            ]
          },
          "metadata": {
            "tags": []
          },
          "execution_count": 8
        }
      ]
    },
    {
      "cell_type": "markdown",
      "metadata": {
        "id": "9dJ5JSGFlLGV"
      },
      "source": [
        "Nós programadores gostamos de simplificar as coisas, por isso, poderíamos escrever `+=` e teriamos o mesmo resultado. Veja:"
      ]
    },
    {
      "cell_type": "code",
      "metadata": {
        "id": "Nmhpf_tzlMLf"
      },
      "source": [
        "var = 5             # Cria a variavel\n",
        "var += 2            # O mesmo que var = var + 2\n",
        "var"
      ],
      "execution_count": null,
      "outputs": []
    },
    {
      "cell_type": "code",
      "metadata": {
        "id": "57eJLW6UWs7C"
      },
      "source": [
        "var = 5             # Cria a variavel\n",
        "var *= 2            # O mesmo que var = var + 2\n",
        "var"
      ],
      "execution_count": null,
      "outputs": []
    },
    {
      "cell_type": "markdown",
      "metadata": {
        "id": "ATKDvMCclNHk"
      },
      "source": [
        "Se acostume com essa sintaxe, você verá muito `+=`, `-=`, `*=`, e similares..."
      ]
    },
    {
      "cell_type": "markdown",
      "metadata": {
        "id": "h72zXtxxilIa"
      },
      "source": [
        "## Entrada e saída de dados\n",
        "\n",
        "Uma das primeiras tarefas que fazemos quando estamos aprendendo a programar é utilizar funções da linguagem de programação para imprimir informações na telam ler dados de um teclado ou de um arquivo. \n",
        "\n",
        "Essas operações são chamadas de operações de E/S. Em geral, as instruções de entrada e saída mais usadas são os comandos print e read. Você já deve ter percebido o comando print nos exemplos anteriores. \n",
        "\n"
      ]
    },
    {
      "cell_type": "markdown",
      "metadata": {
        "id": "3JMeZbusjFQs"
      },
      "source": [
        "### Chamada de Funções\n",
        "\n",
        "Funções são um ponto chave da programação. Elas modularizam nosso programa e executam ações úteis. Veremos como criar funções futuramente.\n"
      ]
    },
    {
      "cell_type": "code",
      "metadata": {
        "id": "B8YQaPGcYCLL",
        "outputId": "40b1ac42-3593-4be3-99e6-b1705de2a0a9",
        "colab": {
          "base_uri": "https://localhost:8080/",
          "height": 54
        }
      },
      "source": [
        "print(\"Parametro1\", \"Parametro2\")\n",
        "print()"
      ],
      "execution_count": null,
      "outputs": [
        {
          "output_type": "stream",
          "text": [
            "Parametro1 Parametro2\n",
            "\n"
          ],
          "name": "stdout"
        }
      ]
    },
    {
      "cell_type": "markdown",
      "metadata": {
        "id": "5zrPRoHFjNx0"
      },
      "source": [
        "As bibliotecas que as LPs apresentam são compostas por funcionalidades específicas. O código `print` é, na verdade, uma função, assim como o código para ler algum dado do teclado. \n",
        "\n",
        "A chamada de uma função é muito simples. Na maioria das linguagens de programação, o processo é o mesmo. Basta colocar o nome da função seguido pelos parênteses\n"
      ]
    },
    {
      "cell_type": "markdown",
      "metadata": {
        "id": "7b9GgU1_vo20"
      },
      "source": [
        "![image.png](data:image/png;base64,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)"
      ]
    },
    {
      "cell_type": "markdown",
      "metadata": {
        "id": "mG4sls2qjs8g"
      },
      "source": [
        "Algumas funções apresentam parâmetros. Se esse for o caso, colocamos os parâmetros dentro dos parênteses."
      ]
    },
    {
      "cell_type": "markdown",
      "metadata": {
        "id": "iPw_NWcPv85s"
      },
      "source": [
        "![image.png](data:image/png;base64,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)"
      ]
    },
    {
      "cell_type": "markdown",
      "metadata": {
        "id": "EiHtmIA5kT_K"
      },
      "source": [
        "Outras funções retornam algum valor, por exemplo, algum cálculo. Nesse caso, temos que atribuir o retorno do resultado da função a alguma variável."
      ]
    },
    {
      "cell_type": "markdown",
      "metadata": {
        "id": "waFppo_cw58w"
      },
      "source": [
        "![image.png](data:image/png;base64,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)"
      ]
    },
    {
      "cell_type": "markdown",
      "metadata": {
        "id": "UfNFi6yNv7L0"
      },
      "source": [
        "Também podemos passar o valor diretamente como parâmetro de outra função."
      ]
    },
    {
      "cell_type": "markdown",
      "metadata": {
        "id": "Njlpx46sv5yE"
      },
      "source": [
        "![image.png](data:image/png;base64,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)"
      ]
    },
    {
      "cell_type": "code",
      "metadata": {
        "id": "7wZalL8-YxMB",
        "outputId": "487c0a13-3b7e-4f10-f712-174952f712f7",
        "colab": {
          "base_uri": "https://localhost:8080/",
          "height": 54
        }
      },
      "source": [
        "entrada = int(input(\"Insira um número\"))\n",
        "print(entrada**2)"
      ],
      "execution_count": null,
      "outputs": [
        {
          "output_type": "stream",
          "text": [
            "Insira um número4\n",
            "16\n"
          ],
          "name": "stdout"
        }
      ]
    },
    {
      "cell_type": "code",
      "metadata": {
        "id": "VQGAAPkokY8e"
      },
      "source": [
        "# chamada_funcao()\n",
        "# chamada_funcao_parametros(4.5)\n",
        "# resultado = somar(3, 2)"
      ],
      "execution_count": null,
      "outputs": []
    },
    {
      "cell_type": "markdown",
      "metadata": {
        "id": "I1f35y1an0f4"
      },
      "source": [
        "## [Funções *built-in*](https://www.w3schools.com/python/python_ref_functions.asp)"
      ]
    },
    {
      "cell_type": "markdown",
      "metadata": {
        "id": "hh36f6Vg2EOO"
      },
      "source": [
        "O Python apresenta diversas funções *built-in*, que são funções prontas na linguagem utilizadas para realizar funcionalidades diversas, como ler dados do teclado, abrir algum arquivo, imprimir algo na tela ou realizar alguma operação matemática ou com listas.\n",
        "\n",
        "Nós vimos na [parte 1](https://colab.research.google.com/drive/12j4v99DcDnMn6t-bkXDcoG1usK7G60-W?usp=sharing) do curso algumas dessas funções. `type()` por exemplo informa o tipo do objeto informado, `print()` imprime algo na tela e `float()` ou `int()` convertem o dado em número real e inteiro respectivamente.\n",
        "\n",
        "Como você pode perceber, para chamar qualquer uma dessas funções não é necessário importar nenhuma biblioteca, elas já estão embutidas na linguagem.\n",
        "\n",
        "Vamos estudar agora mais algumas delas, nos próximos módulos, veremos outras funções úteis para lidar com objetos e estruturas de dados. "
      ]
    },
    {
      "cell_type": "markdown",
      "metadata": {
        "id": "ZOK6rVtWoPGs"
      },
      "source": [
        "### Entrada e saída de dados"
      ]
    },
    {
      "cell_type": "markdown",
      "metadata": {
        "id": "BOmiAEHBn6MZ"
      },
      "source": [
        "#### `print()`"
      ]
    },
    {
      "cell_type": "markdown",
      "metadata": {
        "id": "O6s8TTMa3O1p"
      },
      "source": [
        "A função `print()` é uma das funções mais elementares do Python. Com ela, nós podemos imprimir algum valor na tela.\n",
        "\n",
        "Sua execução é bem simples, bastando passar como parâmetro a informação a ser impressa.\n",
        "\n",
        "Essa informação pode ser qualquer objeto, variável ou expressão da linguagem."
      ]
    },
    {
      "cell_type": "code",
      "metadata": {
        "id": "AUFMCwgVn9N8",
        "outputId": "4799398e-2861-4563-e3fd-0fe286c0cc1c",
        "colab": {
          "base_uri": "https://localhost:8080/",
          "height": 35
        }
      },
      "source": [
        "var = \"Olá\"\n",
        "print(var)"
      ],
      "execution_count": null,
      "outputs": [
        {
          "output_type": "stream",
          "text": [
            "Olá\n"
          ],
          "name": "stdout"
        }
      ]
    },
    {
      "cell_type": "markdown",
      "metadata": {
        "id": "4a4HpDkM3m-N"
      },
      "source": [
        "Perceba que `print` aceita vários parâmetros:"
      ]
    },
    {
      "cell_type": "code",
      "metadata": {
        "id": "PkZXQhP73pcp",
        "outputId": "42d192a7-c993-4ce1-f51c-9a9c236bfe58",
        "colab": {
          "base_uri": "https://localhost:8080/",
          "height": 235
        }
      },
      "source": [
        "help(print)"
      ],
      "execution_count": null,
      "outputs": [
        {
          "output_type": "stream",
          "text": [
            "Help on built-in function print in module builtins:\n",
            "\n",
            "print(...)\n",
            "    print(value, ..., sep=' ', end='\\n', file=sys.stdout, flush=False)\n",
            "    \n",
            "    Prints the values to a stream, or to sys.stdout by default.\n",
            "    Optional keyword arguments:\n",
            "    file:  a file-like object (stream); defaults to the current sys.stdout.\n",
            "    sep:   string inserted between values, default a space.\n",
            "    end:   string appended after the last value, default a newline.\n",
            "    flush: whether to forcibly flush the stream.\n",
            "\n"
          ],
          "name": "stdout"
        }
      ]
    },
    {
      "cell_type": "markdown",
      "metadata": {
        "id": "HJmn5dtp3iqo"
      },
      "source": [
        "O primeiro parâmetro `value` é necessário. Os demais parâmetros são opcionais. Alguns deles:\n",
        "- sep: é o separador entre os valores passados;\n",
        "- end: é o último caractere a ser impresso. '\\n' significa nova linha;\n",
        "- file: é o arquivo a ser impresso. sys.stdout é a saída padrão do sistema, mas podemos imprimir em algum arquivo de texto ou similar.\n"
      ]
    },
    {
      "cell_type": "code",
      "metadata": {
        "id": "iOTLXUXH4C2b",
        "outputId": "741642cf-e584-41d1-be43-a7ecc181f614",
        "colab": {
          "base_uri": "https://localhost:8080/",
          "height": 54
        }
      },
      "source": [
        "print(\"Olá\", \"Tudo\", \"Bem?\")\n",
        "print(\"Olá\", \"Tudo\", \"Bem?\")"
      ],
      "execution_count": null,
      "outputs": [
        {
          "output_type": "stream",
          "text": [
            "Olá Tudo Bem?\n",
            "Olá Tudo Bem?\n"
          ],
          "name": "stdout"
        }
      ]
    },
    {
      "cell_type": "code",
      "metadata": {
        "id": "cHAkTOvk4GeN",
        "outputId": "1af70f8e-9288-4b9d-ea2d-2e9861131bc1",
        "colab": {
          "base_uri": "https://localhost:8080/",
          "height": 72
        }
      },
      "source": [
        "print(\"Olá\", \"Tudo\", \"Bem?\", sep=\"\\n\")"
      ],
      "execution_count": null,
      "outputs": [
        {
          "output_type": "stream",
          "text": [
            "Olá\n",
            "Tudo\n",
            "Bem?\n"
          ],
          "name": "stdout"
        }
      ]
    },
    {
      "cell_type": "code",
      "metadata": {
        "id": "TgdVjpcn4MpC",
        "outputId": "37b6b497-9da9-4731-f624-32db02e757b7",
        "colab": {
          "base_uri": "https://localhost:8080/",
          "height": 35
        }
      },
      "source": [
        "print(\"Olá\", end=\", \")\n",
        "print(\"Tudo bem?\")"
      ],
      "execution_count": null,
      "outputs": [
        {
          "output_type": "stream",
          "text": [
            "Olá, Tudo bem?\n"
          ],
          "name": "stdout"
        }
      ]
    },
    {
      "cell_type": "markdown",
      "metadata": {
        "id": "1N11duq2n-fg"
      },
      "source": [
        "#### `input()`"
      ]
    },
    {
      "cell_type": "markdown",
      "metadata": {
        "id": "UTsfhVlE4b5U"
      },
      "source": [
        "Outra função muito útil é a `input()`. Essa função tem o objetivo de ler dados da entrada do sistema.\n",
        "\n",
        "O parâmetro `prompt` é opcional e é a mensagem a ser passada na tela."
      ]
    },
    {
      "cell_type": "code",
      "metadata": {
        "id": "6ntEb4794WnL"
      },
      "source": [
        "help(input)"
      ],
      "execution_count": null,
      "outputs": []
    },
    {
      "cell_type": "code",
      "metadata": {
        "id": "djbtcIOP4qLA",
        "outputId": "47c2dc07-c039-40de-b4da-1029d2f271d7",
        "colab": {
          "base_uri": "https://localhost:8080/",
          "height": 54
        }
      },
      "source": [
        "caixa = input()\n",
        "print(\"A caixa contém:\", caixa)"
      ],
      "execution_count": null,
      "outputs": [
        {
          "output_type": "stream",
          "text": [
            "654\n",
            "A caixa contém: 654\n"
          ],
          "name": "stdout"
        }
      ]
    },
    {
      "cell_type": "code",
      "metadata": {
        "id": "1vtY3-_u4uzN",
        "outputId": "155e6697-3a3b-4125-f899-de1ee10e30c1",
        "colab": {
          "base_uri": "https://localhost:8080/",
          "height": 54
        }
      },
      "source": [
        "caixa = input(\"Insira algo na caixa:\")\n",
        "print(\"A caixa contém:\", caixa)"
      ],
      "execution_count": null,
      "outputs": [
        {
          "output_type": "stream",
          "text": [
            "Insira algo na caixa:546\n",
            "A caixa contém: 546\n"
          ],
          "name": "stdout"
        }
      ]
    },
    {
      "cell_type": "markdown",
      "metadata": {
        "id": "dJZxiZzJ2WWe"
      },
      "source": [
        "#### `open()` e `close()`"
      ]
    },
    {
      "cell_type": "markdown",
      "metadata": {
        "id": "44clLaQdygQI"
      },
      "source": [
        "![image.png](data:image/png;base64,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)"
      ]
    },
    {
      "cell_type": "markdown",
      "metadata": {
        "id": "D-73GtrS45nY"
      },
      "source": [
        "`open()` é a função para abrir um arquivo, e `close()` é a função para fechar o arquivo.\n",
        "\n",
        "Antes de escrever alguma informação no arquivo, devemos abrí-lo. Ao terminar de escrever as informações necessários, devemos fechá-lo.\n",
        "\n",
        "Se não fecharmos, não poderemos abrir enquanto o programa estiver sendo executado, senão poderão haver erros."
      ]
    },
    {
      "cell_type": "markdown",
      "metadata": {
        "id": "93MP85j_5n2r"
      },
      "source": [
        "Os dois principais parâmetros da função `open` são: file e mode.\n",
        "\n",
        "`file` é o primeiro parâmetro, e é o caminho do arquivo a ser lido/escrito.\n",
        "\n",
        "`mode` é o modo como o arquivo é aberto. Ele pode ser 'r' para leitura, 'w' para escrita (sobrescreve o que estiver dentro do arquivo) e 'a' para adicionar ao final, por exemplo."
      ]
    },
    {
      "cell_type": "code",
      "metadata": {
        "id": "SUbLZCQ75Oqz"
      },
      "source": [
        "arquivo = open(\"arquivo.txt\", \"w\")\n",
        "arquivo.write(\"Olá\")\n",
        "arquivo.close()"
      ],
      "execution_count": null,
      "outputs": []
    },
    {
      "cell_type": "code",
      "metadata": {
        "id": "myXNsjQt6HrZ"
      },
      "source": [
        "arquivo = open(\"arquivo.txt\", \"a\")\n",
        "arquivo.write(\"\\nTudo bem?\")\n",
        "arquivo.close()"
      ],
      "execution_count": null,
      "outputs": []
    },
    {
      "cell_type": "code",
      "metadata": {
        "id": "K1JdQHkR6Ltz",
        "outputId": "d9e08c95-7ac2-46ae-ed96-db9145bb3d13",
        "colab": {
          "base_uri": "https://localhost:8080/",
          "height": 72
        }
      },
      "source": [
        "arquivo = open(\"arquivo.txt\", \"r\")\n",
        "linhas = arquivo.readlines()\n",
        "print(linhas)\n",
        "print(\"Primeira linha =\", linhas[0])\n",
        "arquivo.close()"
      ],
      "execution_count": null,
      "outputs": [
        {
          "output_type": "stream",
          "text": [
            "['Olá\\n', 'Tudo bem?']\n",
            "Primeira linha = Olá\n",
            "\n"
          ],
          "name": "stdout"
        }
      ]
    },
    {
      "cell_type": "markdown",
      "metadata": {
        "id": "5vkoUeKh6Ss0"
      },
      "source": [
        "Você deve ter percebido que `close`, `write` e `readlines` foram chamadas de formas diferentes. Essas funções, na verdade, recebem o nome de métodos, porque pertencem ao objeto criado (arquivo, no caso), e elas não são funções *built-in*.\n",
        "\n",
        "Veremos como criar e acessar métodos no futuro."
      ]
    },
    {
      "cell_type": "markdown",
      "metadata": {
        "id": "BWpnJGC06j-t"
      },
      "source": [
        "#### Facilitando a vida com `with`"
      ]
    },
    {
      "cell_type": "markdown",
      "metadata": {
        "id": "A1-N5AoIym-g"
      },
      "source": [
        "![image.png](data:image/png;base64,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)"
      ]
    },
    {
      "cell_type": "markdown",
      "metadata": {
        "id": "TMx-3wxP6uxf"
      },
      "source": [
        "Para não precisar fechar um arquivo, e por facilidade, é recomendado utilizar a palavra-chave `with` para criar um contexto.\n",
        "\n",
        "Contexto é a capacidade de criar um ambiente temporário na programação, que é automaticamente resolvido quando a operação termina.\n",
        "\n",
        "Por exemplo, no caso do arquivo, podemos abrir um contexto, e automaticamente ele será fechado ao final do processo."
      ]
    },
    {
      "cell_type": "code",
      "metadata": {
        "id": "RAIM6Ek_6tNV",
        "outputId": "56a62914-b04a-4ec8-9af0-332092a7b1b2",
        "colab": {
          "base_uri": "https://localhost:8080/",
          "height": 35
        }
      },
      "source": [
        "with open(\"arquivo.txt\", \"r\") as arquivo:\n",
        "  print(arquivo.readlines())"
      ],
      "execution_count": null,
      "outputs": [
        {
          "output_type": "stream",
          "text": [
            "['Olá\\n', 'Tudo bem?']\n"
          ],
          "name": "stdout"
        }
      ]
    },
    {
      "cell_type": "markdown",
      "metadata": {
        "id": "msUcyHSXn-jc"
      },
      "source": [
        "### Operações matemáticas"
      ]
    },
    {
      "cell_type": "markdown",
      "metadata": {
        "id": "thL6CQgp7TjS"
      },
      "source": [
        "Vamos estudar algumas funções matemáticas."
      ]
    },
    {
      "cell_type": "markdown",
      "metadata": {
        "id": "_mlBrGCnn-mY"
      },
      "source": [
        "#### `abs()`"
      ]
    },
    {
      "cell_type": "markdown",
      "metadata": {
        "id": "LRHuU6Uv7XZZ"
      },
      "source": [
        "Essa função tem o objetivo de calcular o módulo do número."
      ]
    },
    {
      "cell_type": "code",
      "metadata": {
        "id": "qZ1rqESU7dHW",
        "outputId": "839b4cce-250e-4337-8175-fad7bba384ba",
        "colab": {
          "base_uri": "https://localhost:8080/",
          "height": 35
        }
      },
      "source": [
        "abs(-99)"
      ],
      "execution_count": null,
      "outputs": [
        {
          "output_type": "execute_result",
          "data": {
            "text/plain": [
              "99"
            ]
          },
          "metadata": {
            "tags": []
          },
          "execution_count": 24
        }
      ]
    },
    {
      "cell_type": "markdown",
      "metadata": {
        "id": "Xr09ObUdn-qH"
      },
      "source": [
        "#### `range()`"
      ]
    },
    {
      "cell_type": "markdown",
      "metadata": {
        "id": "H75C9Msf7bsF"
      },
      "source": [
        "Essa função tem o objetivo de retornar uma sequência de números.\n",
        "\n",
        "Ela é muito utilizada em comandos de repetição."
      ]
    },
    {
      "cell_type": "code",
      "metadata": {
        "id": "hcyxpX757pBl",
        "outputId": "a2424f2f-8d50-448c-9472-118acf86280f",
        "colab": {
          "base_uri": "https://localhost:8080/",
          "height": 35
        }
      },
      "source": [
        "list(range(10))"
      ],
      "execution_count": null,
      "outputs": [
        {
          "output_type": "execute_result",
          "data": {
            "text/plain": [
              "[0, 1, 2, 3, 4, 5, 6, 7, 8, 9]"
            ]
          },
          "metadata": {
            "tags": []
          },
          "execution_count": 25
        }
      ]
    },
    {
      "cell_type": "markdown",
      "metadata": {
        "id": "aXhtgCtin-uB"
      },
      "source": [
        "#### `round()`"
      ]
    },
    {
      "cell_type": "markdown",
      "metadata": {
        "id": "zk-S4DOnn-ym"
      },
      "source": [
        "Essa função arredonda um número."
      ]
    },
    {
      "cell_type": "code",
      "metadata": {
        "id": "d4N8dD2g7y-g",
        "outputId": "d9e3a1e1-c409-4419-8b95-3a06ea56677e",
        "colab": {
          "base_uri": "https://localhost:8080/",
          "height": 181
        }
      },
      "source": [
        "help(round)"
      ],
      "execution_count": null,
      "outputs": [
        {
          "output_type": "stream",
          "text": [
            "Help on built-in function round in module builtins:\n",
            "\n",
            "round(...)\n",
            "    round(number[, ndigits]) -> number\n",
            "    \n",
            "    Round a number to a given precision in decimal digits (default 0 digits).\n",
            "    This returns an int when called with one argument, otherwise the\n",
            "    same type as the number. ndigits may be negative.\n",
            "\n"
          ],
          "name": "stdout"
        }
      ]
    },
    {
      "cell_type": "code",
      "metadata": {
        "id": "gCtxyGM_7zGY",
        "outputId": "b199324b-09fc-4a58-d390-56f3019f8eaa",
        "colab": {
          "base_uri": "https://localhost:8080/",
          "height": 35
        }
      },
      "source": [
        "round(0.98751554, 2)"
      ],
      "execution_count": null,
      "outputs": [
        {
          "output_type": "execute_result",
          "data": {
            "text/plain": [
              "0.99"
            ]
          },
          "metadata": {
            "tags": []
          },
          "execution_count": 27
        }
      ]
    },
    {
      "cell_type": "code",
      "metadata": {
        "id": "WvSRo7EE7zFL",
        "outputId": "8392c00f-bb6e-4e54-a704-acf68c98fcab",
        "colab": {
          "base_uri": "https://localhost:8080/",
          "height": 35
        }
      },
      "source": [
        "round(0.98751554, 3)"
      ],
      "execution_count": null,
      "outputs": [
        {
          "output_type": "execute_result",
          "data": {
            "text/plain": [
              "0.988"
            ]
          },
          "metadata": {
            "tags": []
          },
          "execution_count": 28
        }
      ]
    },
    {
      "cell_type": "markdown",
      "metadata": {
        "id": "6ncFIuGk_E0B"
      },
      "source": [
        "## Exemplos"
      ]
    },
    {
      "cell_type": "markdown",
      "metadata": {
        "id": "XIpR65bA_Ixm"
      },
      "source": [
        "**Faça um algoritmo que leia as 3 notas de um aluno e calcule a média final deste aluno. Considerar que a média é ponderada e que o peso das notas é: 2,3 e 5, respectivamente. Mostre apenas uma casa após a vírgula.**"
      ]
    },
    {
      "cell_type": "markdown",
      "metadata": {
        "id": "--KEoYns_pFp"
      },
      "source": [
        "| Exemplo de Entrada |\tExemplo de Saída |\n",
        "|--------------------|-------------------| \n",
        "| 1.0 7.0 5.0            |  4.8           | "
      ]
    },
    {
      "cell_type": "code",
      "metadata": {
        "id": "Ox5JkwoZcdga",
        "outputId": "0c62de92-bf43-4a1e-8823-ab76d949359b",
        "colab": {
          "base_uri": "https://localhost:8080/",
          "height": 90
        }
      },
      "source": [
        "nota1 = float(input(\"Insira a nota 1: \"))\n",
        "nota2 = float(input(\"Insira a nota 2: \"))\n",
        "nota3 = float(input(\"Insira a nota 3: \"))\n",
        "\n",
        "media = (nota1*2 + nota2*3 + nota3*5) / 10\n",
        "media = round(media, 1)\n",
        "\n",
        "print(\"A média é\", media)"
      ],
      "execution_count": null,
      "outputs": [
        {
          "output_type": "stream",
          "text": [
            "Insira a nota 1: 1.0\n",
            "Insira a nota 2: 7.0\n",
            "Insira a nota 3: 5.0\n",
            "A média é 4.8\n"
          ],
          "name": "stdout"
        }
      ]
    },
    {
      "cell_type": "markdown",
      "metadata": {
        "id": "HjYmG5gv8C_n"
      },
      "source": [
        "## Desafios"
      ]
    },
    {
      "cell_type": "markdown",
      "metadata": {
        "id": "CE0uUOlV_IjC"
      },
      "source": [
        "**Leia os quatro valores correspondentes aos eixos x e y de dois pontos quaisquer no plano, p1(x1,y1) e p2(x2,y2) e calcule a distância entre eles, mostrando 4 casas decimais após a vírgula, segundo a fórmula:**"
      ]
    },
    {
      "cell_type": "markdown",
      "metadata": {
        "id": "UhNujEB3_au7"
      },
      "source": [
        "![image.png](data:image/png;base64,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)"
      ]
    },
    {
      "cell_type": "markdown",
      "metadata": {
        "id": "tIG8GdyK00qL"
      },
      "source": [
        "![image.png](data:image/png;base64,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)"
      ]
    },
    {
      "cell_type": "markdown",
      "metadata": {
        "id": "VG5CgMO4_a2A"
      },
      "source": [
        "| Exemplo de Entrada |\tExemplo de Saída |\n",
        "|--------------------|-------------------| \n",
        "| 1.0 7.0            |  4.4721           | \n",
        "| 5.0 9.0            |                   | "
      ]
    },
    {
      "cell_type": "code",
      "metadata": {
        "id": "0mj1zwxk_aLb"
      },
      "source": [
        "# Descomente (tire o #) nas linhas para importar math para \n",
        "# calcular a raiz quadrada.\n",
        "#import math\n",
        "# print(math.sqrt(9))\n",
        "\n",
        "# Dica: você pode fazer a raiz quadrada sem importar nada\n",
        "# também (elevar ao 1/2 é equivalente): \n",
        "# print(4**(1/2))\n",
        "\n",
        "# Seu programa aqui"
      ],
      "execution_count": null,
      "outputs": []
    },
    {
      "cell_type": "markdown",
      "metadata": {
        "id": "ozZ0T9zyAOp5"
      },
      "source": [
        "**Neste problema, deve-se ler o código de uma peça 1, o número de peças 1, o valor unitário de cada peça 1, o código de uma peça 2, o número de peças 2 e o valor unitário de cada peça 2. Após, calcule e mostre o valor a ser pago.**"
      ]
    },
    {
      "cell_type": "markdown",
      "metadata": {
        "id": "1swqks7JAYie"
      },
      "source": [
        "| Exemplo de Entrada |\tExemplo de Saída            |\n",
        "|--------------------|------------------------------| \n",
        "|12 1 5.30           | VALOR A PAGAR: R\\$ 15.50     | \n",
        "|16 2 5.10           |                              | \n",
        "|13 2 15.30          | VALOR A PAGAR: R\\$ 51.40     | \n",
        "|161 4 5.20          |                              | "
      ]
    },
    {
      "cell_type": "code",
      "metadata": {
        "id": "gN7O50qnAOdI"
      },
      "source": [
        "# Seu programa aqui"
      ],
      "execution_count": null,
      "outputs": []
    }
  ]
}