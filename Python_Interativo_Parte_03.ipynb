{
  "nbformat": 4,
  "nbformat_minor": 0,
  "metadata": {
    "colab": {
      "name": "Python Interativo - Parte 03.ipynb",
      "provenance": [],
      "collapsed_sections": [],
      "toc_visible": true,
      "include_colab_link": true
    },
    "kernelspec": {
      "name": "python3",
      "display_name": "Python 3"
    }
  },
  "cells": [
    {
      "cell_type": "markdown",
      "metadata": {
        "id": "view-in-github",
        "colab_type": "text"
      },
      "source": [
        "<a href=\"https://colab.research.google.com/github/aidtecstem/python-interativo/blob/master/Python_Interativo_Parte_03.ipynb\" target=\"_parent\"><img src=\"https://colab.research.google.com/assets/colab-badge.svg\" alt=\"Open In Colab\"/></a>"
      ]
    },
    {
      "cell_type": "markdown",
      "metadata": {
        "id": "_xISJe1qEv28"
      },
      "source": [
        "# Python Interativo\n",
        "\n",
        "## Controle de fluxo e repetição\n",
        "\n",
        "Olá. Este notebook irá guiar você no curso Python Interativo.\n",
        "\n",
        "Neste notebook, iremos aprender um pouco sobre os seguintes tópicos:\n",
        "- Controle de fluxo;\n",
        "- Controles de repetição;\n",
        "\n",
        "No final, deixo um desafio como tarefa."
      ]
    },
    {
      "cell_type": "markdown",
      "metadata": {
        "id": "TOMJ7wgKDoj4"
      },
      "source": [
        "## Estruturas de controle"
      ]
    },
    {
      "cell_type": "markdown",
      "metadata": {
        "id": "zxs3R7HLHOkF"
      },
      "source": [
        "Este é um dos principais tópicos desse nosso minicurso. Até agora trabalhamos de forma sequencial e realizamos pequenos cálculos. \n",
        "\n",
        "Com estruturas de controle de fluxo e repetição poderemos criar algoritmos mais complexos que tomam decisões e repetem o código iterativamente."
      ]
    },
    {
      "cell_type": "markdown",
      "metadata": {
        "id": "MgMCxcDJHQS-"
      },
      "source": [
        "### A instrução `if-elif-else`\n",
        "\n",
        "A primeira instrução que quero passar para você é a instrução `if`.\n",
        "\n",
        "Com o `if` nós verificamos __se__ algo é verdadeiro e executamos um determinado código. Isto é, o bloco de código dentro da instrução `if` só será executado caso a condição da instrução seja verdadeira. Veja:"
      ]
    },
    {
      "cell_type": "markdown",
      "metadata": {
        "id": "_y9dnRFWGmiH"
      },
      "source": [
        "![image.png](data:image/png;base64,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)"
      ]
    },
    {
      "cell_type": "code",
      "metadata": {
        "id": "no8Vvs_eHS8L",
        "outputId": "35118d43-54dd-4869-8283-504436a86878",
        "colab": {
          "base_uri": "https://localhost:8080/",
          "height": 35
        }
      },
      "source": [
        "if (3 > 2):                              # Se verdadeiro:\n",
        "    print('A condição é verdadeira')  # Executa o bloco de código"
      ],
      "execution_count": null,
      "outputs": [
        {
          "output_type": "stream",
          "text": [
            "A condição é verdadeira\n"
          ],
          "name": "stdout"
        }
      ]
    },
    {
      "cell_type": "code",
      "metadata": {
        "id": "lb18duytHS_8"
      },
      "source": [
        "if False:                             # Se verdadeiro:\n",
        "    print('A condição é verdadeira')  # Executa o bloco de código    "
      ],
      "execution_count": null,
      "outputs": []
    },
    {
      "cell_type": "markdown",
      "metadata": {
        "id": "9ZA-3BIxHYXm"
      },
      "source": [
        "Note que no primeiro exemplo uma mensagem foi impressa na tela, enquanto no segundo exemplo não.\n",
        "\n",
        "Lembra quando fizemos alguns testes lógicos? Agora podemos utilizá-los para tomar decisões, veja:"
      ]
    },
    {
      "cell_type": "code",
      "metadata": {
        "id": "uSyCPiQPHXyh",
        "outputId": "81fd57b8-431f-41e6-8913-e984c70d8dc3",
        "colab": {
          "base_uri": "https://localhost:8080/",
          "height": 35
        }
      },
      "source": [
        "num = 10\n",
        "if num % 2 == 0:                      # Se o resto da divisão por 2 for zero\n",
        "    print('Esse número é par')"
      ],
      "execution_count": null,
      "outputs": [
        {
          "output_type": "stream",
          "text": [
            "Esse número é par\n"
          ],
          "name": "stdout"
        }
      ]
    },
    {
      "cell_type": "code",
      "metadata": {
        "id": "SjIONZ3QHcoG",
        "outputId": "8e251b77-363f-4335-9c81-931aeb1ba5ea",
        "colab": {
          "base_uri": "https://localhost:8080/",
          "height": 35
        }
      },
      "source": [
        "if not (1 >= 99):\n",
        "    print('1 < 99')"
      ],
      "execution_count": null,
      "outputs": [
        {
          "output_type": "stream",
          "text": [
            "1 < 99\n"
          ],
          "name": "stdout"
        }
      ]
    },
    {
      "cell_type": "code",
      "metadata": {
        "id": "W4TTJ2spHd1Z",
        "outputId": "c1c267ac-8e6a-4d2c-f956-8174700c5fc5",
        "colab": {
          "base_uri": "https://localhost:8080/",
          "height": 35
        }
      },
      "source": [
        "# Testando com o operador and\n",
        "if True and True:\n",
        "    print('True and True')\n",
        "if True and False:\n",
        "    print('True and False')\n",
        "if False and True:\n",
        "    print('False and True')\n",
        "if False and False:\n",
        "    print('False and False')"
      ],
      "execution_count": null,
      "outputs": [
        {
          "output_type": "stream",
          "text": [
            "True and True\n"
          ],
          "name": "stdout"
        }
      ]
    },
    {
      "cell_type": "code",
      "metadata": {
        "id": "8S6LBgCrHeye",
        "outputId": "3ca339ce-49ab-416c-d8bb-aad2f8b9cdbc",
        "colab": {
          "base_uri": "https://localhost:8080/",
          "height": 72
        }
      },
      "source": [
        "# Testando com o operador or\n",
        "if True or True:\n",
        "    print('True or True')\n",
        "if True or False:\n",
        "    print('True or False')\n",
        "if False or True:\n",
        "    print('False or True')\n",
        "if False or False:\n",
        "    print('False or False')"
      ],
      "execution_count": null,
      "outputs": [
        {
          "output_type": "stream",
          "text": [
            "True or True\n",
            "True or False\n",
            "False or True\n"
          ],
          "name": "stdout"
        }
      ]
    },
    {
      "cell_type": "code",
      "metadata": {
        "id": "qLmHj_BDHgSR",
        "outputId": "f023950a-d54f-4a58-f5a6-70507f2e2446",
        "colab": {
          "base_uri": "https://localhost:8080/",
          "height": 35
        }
      },
      "source": [
        "# Testando com operadores lógicos\n",
        "if True and not (False or not True):\n",
        "    print('True and True')"
      ],
      "execution_count": null,
      "outputs": [
        {
          "output_type": "stream",
          "text": [
            "True and True\n"
          ],
          "name": "stdout"
        }
      ]
    },
    {
      "cell_type": "markdown",
      "metadata": {
        "id": "YqEpqOgIJ4UF"
      },
      "source": [
        "**Faça um algoritmo para verificar se um número é ímpar**"
      ]
    },
    {
      "cell_type": "code",
      "metadata": {
        "id": "O-0iQNS8qVed"
      },
      "source": [
        ""
      ],
      "execution_count": null,
      "outputs": []
    },
    {
      "cell_type": "code",
      "metadata": {
        "id": "dsnlQsHLc9SA"
      },
      "source": [
        "num = int(input(\"Digite um número: \"))\n",
        "if not (num % 2 == 0):                     \n",
        "    print('Esse número é impar')\n",
        "\n",
        "num = int(input(\"Digite um número: \"))\n",
        "if num % 2 == 1:                     \n",
        "    print('Esse número é impar')\n",
        "\n",
        "num = int(input(\"Digite um número: \"))\n",
        "if num % 2 != 0:                     \n",
        "    print('Esse número é impar')"
      ],
      "execution_count": null,
      "outputs": []
    },
    {
      "cell_type": "code",
      "metadata": {
        "id": "K97b9VFPHhGl"
      },
      "source": [
        "# Jogo da divinhação\n",
        "num_secreto = 288**3 / 987 - 999 + 3\n",
        "num = int(input('Adivinhe o número: '))\n",
        "if num == num_secreto:\n",
        "    print('Você acertou o número secreto!')\n",
        "if num > num_secreto:\n",
        "    print('O número secreto é menor!')\n",
        "if num < num_secreto:\n",
        "    print('O número secreto é maior!')"
      ],
      "execution_count": null,
      "outputs": []
    },
    {
      "cell_type": "markdown",
      "metadata": {
        "id": "dhulbm1zHiF7"
      },
      "source": [
        "Podemos ter instruções dentro de instruções também, não se esqueça disso!"
      ]
    },
    {
      "cell_type": "code",
      "metadata": {
        "id": "o-SYPdC6Hi_B"
      },
      "source": [
        "num = 10\n",
        "if num % 2 == 0:\n",
        "    if num > 0:\n",
        "        print('O número é par e positivo')"
      ],
      "execution_count": null,
      "outputs": []
    },
    {
      "cell_type": "markdown",
      "metadata": {
        "id": "TGfpybn4JoMQ"
      },
      "source": [
        "**Reescreva o código acima sem a instrução if interna (utilize operadores lógicos)**"
      ]
    },
    {
      "cell_type": "code",
      "metadata": {
        "id": "wxV8sS6oJm13"
      },
      "source": [
        ""
      ],
      "execution_count": null,
      "outputs": []
    },
    {
      "cell_type": "markdown",
      "metadata": {
        "id": "qhn3lxnrHtxA"
      },
      "source": [
        "Para complementar a instrução `if`,  podemos  utilizar a instrução `else`.  O `else` executa caso o valor lógico da insrução `if` seja falso. Veja:"
      ]
    },
    {
      "cell_type": "markdown",
      "metadata": {
        "id": "UjeR0JaxGrdG"
      },
      "source": [
        "![image.png](data:image/png;base64,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)"
      ]
    },
    {
      "cell_type": "code",
      "metadata": {
        "id": "BViWMzHdHu3b",
        "outputId": "84bbb2a7-88d4-45e9-f4d2-e76bece8531e",
        "colab": {
          "base_uri": "https://localhost:8080/",
          "height": 35
        }
      },
      "source": [
        "if True:                              # Se verdadeiro:\n",
        "    print('A condição é verdadeira')  # Executa o bloco de código\n",
        "else:                                 # Senão...\n",
        "    print('A condição é falsa')       # Executa o bloco de código"
      ],
      "execution_count": null,
      "outputs": [
        {
          "output_type": "stream",
          "text": [
            "A condição é verdadeira\n"
          ],
          "name": "stdout"
        }
      ]
    },
    {
      "cell_type": "code",
      "metadata": {
        "id": "7Q1L78SUHu-y",
        "outputId": "d2e1ef12-e26c-41f5-e522-85fbbb6abc60",
        "colab": {
          "base_uri": "https://localhost:8080/",
          "height": 35
        }
      },
      "source": [
        "if False:                             # Se verdadeiro:\n",
        "    print('A condição é verdadeira')  # Executa o bloco de código\n",
        "else:                                 # Senão...\n",
        "    print('A condição é falsa')       # Executa o bloco de código"
      ],
      "execution_count": null,
      "outputs": [
        {
          "output_type": "stream",
          "text": [
            "A condição é falsa\n"
          ],
          "name": "stdout"
        }
      ]
    },
    {
      "cell_type": "markdown",
      "metadata": {
        "id": "olZruFt6HxfF"
      },
      "source": [
        "Insira um número no programa abaixo e veja se ele é par ou impar."
      ]
    },
    {
      "cell_type": "code",
      "metadata": {
        "id": "6MSVXxl9Hyf2",
        "outputId": "9bab3feb-5cca-495f-c21a-5c7d1fa7097b",
        "colab": {
          "base_uri": "https://localhost:8080/",
          "height": 54
        }
      },
      "source": [
        "# if-else\n",
        "num = int(input())\n",
        "if num % 2 == 0:\n",
        "    print('O número é par')\n",
        "else:\n",
        "    print('O numero é impar')"
      ],
      "execution_count": null,
      "outputs": [
        {
          "output_type": "stream",
          "text": [
            "5\n",
            "O numero é impar\n"
          ],
          "name": "stdout"
        }
      ]
    },
    {
      "cell_type": "markdown",
      "metadata": {
        "id": "3Aojp8QIHz8C"
      },
      "source": [
        "O terceiro comando que complementa a instrução `if` é  o `elif`. O `elif` significa `senão` `se`.\n",
        "É similar ao `else`, com a diferença que você faz uma nova verificação logo em seguida, observe:"
      ]
    },
    {
      "cell_type": "markdown",
      "metadata": {
        "id": "3URXtWmjG3LU"
      },
      "source": [
        "![image.png](data:image/png;base64,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)"
      ]
    },
    {
      "cell_type": "code",
      "metadata": {
        "id": "eXVFSNvLH04c",
        "outputId": "0064377d-77fb-4b0a-94d3-f82c96fdc2a8",
        "colab": {
          "base_uri": "https://localhost:8080/",
          "height": 72
        }
      },
      "source": [
        "num = int(input())\n",
        "if num > 0:\n",
        "    print('O número é maior que zero')\n",
        "elif num < 0:\n",
        "    print('O número é menor que zero')\n",
        "else:\n",
        "    print('O número é igual a zero.')\n",
        "print(\"Terminou\")"
      ],
      "execution_count": null,
      "outputs": [
        {
          "output_type": "stream",
          "text": [
            "-5\n",
            "O número é menor que zero\n",
            "Terminou\n"
          ],
          "name": "stdout"
        }
      ]
    },
    {
      "cell_type": "markdown",
      "metadata": {
        "id": "Ye29BFlsH3Fy"
      },
      "source": [
        "Você pode colocar quantos `elif`s quanto quiser, mas pode usar apenas um `else` para cada `if`. Pode ter `elif`s sem `else` também!"
      ]
    },
    {
      "cell_type": "code",
      "metadata": {
        "id": "bq5O981HH4Sf"
      },
      "source": [
        "operacao = int(input('Informe a operação: '))\n",
        "if operacao == 1:\n",
        "    print('Executando a operação 1')\n",
        "elif operacao == 2:\n",
        "    print('Executando a operação 2')\n",
        "elif operacao == 3:\n",
        "    print('Executando a operação 3')\n",
        "else:\n",
        "    print('Operação inválida.')"
      ],
      "execution_count": null,
      "outputs": []
    },
    {
      "cell_type": "markdown",
      "metadata": {
        "id": "d4VBMqVRH7HU"
      },
      "source": [
        "*Atenção: Não existe `else` ou `elif` sem uma respectiva instrução `if`.  A indentação dessas instruções deve ser a mesma.*"
      ]
    },
    {
      "cell_type": "markdown",
      "metadata": {
        "id": "omZ3AXyoH9-8"
      },
      "source": [
        "O Python aceita algumas operações bem legais para facilitar a escrita de código, podemos por exemplo, executar uma operação `if-else` tudo em uma linha só, veja:"
      ]
    },
    {
      "cell_type": "code",
      "metadata": {
        "id": "-Y0GgQvmH-0s",
        "outputId": "0e09df5e-a4d4-4302-b4d3-c9b6d8dd56af",
        "colab": {
          "base_uri": "https://localhost:8080/",
          "height": 35
        }
      },
      "source": [
        "numero = 1\n",
        "frase = \"Olá!\" if numero > 0 else \"Tchau!\"\n",
        "print(frase)"
      ],
      "execution_count": null,
      "outputs": [
        {
          "output_type": "stream",
          "text": [
            "Olá!\n"
          ],
          "name": "stdout"
        }
      ]
    },
    {
      "cell_type": "markdown",
      "metadata": {
        "id": "Uv-G7Zf4DosJ"
      },
      "source": [
        "### A instrução `while` e a instrução `for`\n",
        "\n",
        "Agora que você já sabe como fazer com que um programa tome decisões, vamos aprender como fazer com que certas partes do nosso código se repita iterativamente, ou como executamos uma determinada ação quantas vezes for necessário."
      ]
    },
    {
      "cell_type": "markdown",
      "metadata": {
        "id": "L4qb_WKDILNy"
      },
      "source": [
        "Suponha que você queira executar uma determinada operação várias vezes, digamos, 10 vezes, como você faria?"
      ]
    },
    {
      "cell_type": "code",
      "metadata": {
        "id": "eVrWD2m0IMPh"
      },
      "source": [
        "# Executando uma operação 10 vezes\n",
        "print('Executando a operação 1')  # Faz de conta que é uma operação bem complexa\n",
        "print('Executando a operação 1')\n",
        "print('Executando a operação 1')\n",
        "print('Executando a operação 1')\n",
        "print('Executando a operação 1')\n",
        "print('Executando a operação 1')\n",
        "print('Executando a operação 1')\n",
        "print('Executando a operação 1')\n",
        "print('Executando a operação 1')\n",
        "print('Executando a operação 1')"
      ],
      "execution_count": null,
      "outputs": []
    },
    {
      "cell_type": "markdown",
      "metadata": {
        "id": "Zr3JmefoINd4"
      },
      "source": [
        "E se fossem 100 vezes? \n",
        "\n",
        "Perceba que a medida que quisermos executar mais vezes o mesmo código, fica cada vez mais complicado de codificar isso no programa. \n",
        "\n",
        "Isso não é o pior, e se desejássemos executar uma operação até que uma condição fosse falsa?"
      ]
    },
    {
      "cell_type": "code",
      "metadata": {
        "id": "WGxbRLWzIO9f"
      },
      "source": [
        "executar = True if input() == 'sim' else False\n",
        "if executar:\n",
        "    print('Executando 1')\n",
        "executar = True if input() == 'sim' else False\n",
        "if executar:\n",
        "    print('Executando 2')\n",
        "executar = True if input() == 'sim' else False\n",
        "if executar:\n",
        "    print('Executando 3')\n",
        "# ... \n",
        "# Infinitos ifs...\n",
        "executar = True if input() == 'sim' else False\n",
        "if executar:\n",
        "    print('Executando n')"
      ],
      "execution_count": null,
      "outputs": []
    },
    {
      "cell_type": "markdown",
      "metadata": {
        "id": "OYXDr4juIQ_E"
      },
      "source": [
        "No problema acima,  não teríamos como fazer nosso programa funcionar porque não saberíamos quantas vezes executar o código (e mesmo que soubéssemos, talvez tivéssemos que escrever várias vezes o mesmo código para realizar a ação)"
      ]
    },
    {
      "cell_type": "markdown",
      "metadata": {
        "id": "u3HkOZa9ISZB"
      },
      "source": [
        "Quer ver um exemplo mais prático? Suponha que você seja um matemático e queira calcular o valor de PI com a precisão de 100 casas decimais. Bem, uma das fórmulas que você poderia usar é essa aqui:\n",
        "\n",
        "![Fórmula de Leibniz](https://drive.google.com/uc?export=view&id=1GM8Eko1WLhYUpSj6LDxkEwlx7rOmJkQV)"
      ]
    },
    {
      "cell_type": "markdown",
      "metadata": {
        "id": "yiDkdnW3ITp1"
      },
      "source": [
        "Então poderíamos realizar o cálculo na programação, mas... até quando?"
      ]
    },
    {
      "cell_type": "code",
      "metadata": {
        "id": "-flYPKWQIVcG"
      },
      "source": [
        "# Cálculo de PI\n",
        "pi = 1 - 1/3 + 1/5 - 1/7 + 1/9 - 1/11 + 1/13 # ... continua\n",
        "pi *= 4\n",
        "\n",
        "pi"
      ],
      "execution_count": null,
      "outputs": []
    },
    {
      "cell_type": "markdown",
      "metadata": {
        "id": "4RpguQ93IUmr"
      },
      "source": [
        "Para resolver estes e outros problemas podemos utilizar [estruturas de repetição](https://docs.python.org/3/tutorial/controlflow.html). Existem duas principais estruturas de repetição no Python: o `while` e o `for`.\n",
        "\n",
        "As duas instruções são equivalentes, mas dependendo do caso pode ser mais fácil ou mais difícil trabalhar com uma delas. O `while` é mais recomendado para casos mais gerais, ou quando você desconhece quantas vezes irá executar um certo conjunto de operações, o `for` é mais recomendado para iterar em listas (veremos isso um dia) ou para executar um código uma quantidade definida de vezes."
      ]
    },
    {
      "cell_type": "markdown",
      "metadata": {
        "id": "qdKPH9S-IYcH"
      },
      "source": [
        "Por exemplo, para executar aquela operação 10 vezes, poderíamos fazer:"
      ]
    },
    {
      "cell_type": "code",
      "metadata": {
        "id": "bmJrCyljIZVZ",
        "outputId": "b75e3889-6e69-4eee-899c-cdb87b2f0cf1",
        "colab": {
          "base_uri": "https://localhost:8080/",
          "height": 199
        }
      },
      "source": [
        "for _ in range(10):\n",
        "    print('Executando a operação 1')"
      ],
      "execution_count": null,
      "outputs": [
        {
          "output_type": "stream",
          "text": [
            "Executando a operação 1\n",
            "Executando a operação 1\n",
            "Executando a operação 1\n",
            "Executando a operação 1\n",
            "Executando a operação 1\n",
            "Executando a operação 1\n",
            "Executando a operação 1\n",
            "Executando a operação 1\n",
            "Executando a operação 1\n",
            "Executando a operação 1\n"
          ],
          "name": "stdout"
        }
      ]
    },
    {
      "cell_type": "markdown",
      "metadata": {
        "id": "G7nOMZHZIbsP"
      },
      "source": [
        "Observe que `range()` retorna algo pra gente, assim como `input()`. Ela retorna um objeto iterável contendo números. Neste caso, de 0 até 10.  \n",
        "\n",
        "Eu omiti o número atual iterado utilizando um underscore (`_`), mas as vezes é util utilizar este número na programação. Veja:"
      ]
    },
    {
      "cell_type": "code",
      "metadata": {
        "id": "bnccmRhBIb_R",
        "outputId": "0e7a87cf-f8cf-435b-c692-4de128cafc8b",
        "colab": {
          "base_uri": "https://localhost:8080/",
          "height": 199
        }
      },
      "source": [
        "for i in range(10):\n",
        "    print('Executando a operação 1 (tentativa {})'.format(i))"
      ],
      "execution_count": null,
      "outputs": [
        {
          "output_type": "stream",
          "text": [
            "Executando a operação 1 (tentativa 0)\n",
            "Executando a operação 1 (tentativa 1)\n",
            "Executando a operação 1 (tentativa 2)\n",
            "Executando a operação 1 (tentativa 3)\n",
            "Executando a operação 1 (tentativa 4)\n",
            "Executando a operação 1 (tentativa 5)\n",
            "Executando a operação 1 (tentativa 6)\n",
            "Executando a operação 1 (tentativa 7)\n",
            "Executando a operação 1 (tentativa 8)\n",
            "Executando a operação 1 (tentativa 9)\n"
          ],
          "name": "stdout"
        }
      ]
    },
    {
      "cell_type": "markdown",
      "metadata": {
        "id": "uTf2rto-Ifax"
      },
      "source": [
        "Dê uma olhada na documentação de [`range`](https://docs.python.org/3/library/stdtypes.html#range), você pode utilizá-la de diversas formas conforme a sua necessidade."
      ]
    },
    {
      "cell_type": "markdown",
      "metadata": {
        "id": "Z4rgxQ0hIiNn"
      },
      "source": [
        "Ah, então agora podemos calcular PI não é mesmo?"
      ]
    },
    {
      "cell_type": "code",
      "metadata": {
        "id": "Vv_azbPVIgh1",
        "outputId": "cf361d94-35cd-4dc4-fc2b-fc45b6e59cd7",
        "colab": {
          "base_uri": "https://localhost:8080/",
          "height": 35
        }
      },
      "source": [
        "# Cálculo de PI\n",
        "pi = 1                                     # Adiciona 1 a pi\n",
        "sinal = True                                # Isso é uma flag, vou usar para \n",
        "                                           # alternar o sinal negativo na conta\n",
        "for i in range(1, 1000, 2):                # Para cada i em [1, 3, 5, 7,...,999]\n",
        "    pi += 1/(i + 2) * (-1 if sinal else 1) # Faz a conta da fração e adiciona na\n",
        "                                           # variável\n",
        "    sinal = not sinal                        # Inverte o sinal\n",
        "\n",
        "pi *= 4                                    # Multiplica tudo por 4\n",
        "print(pi)"
      ],
      "execution_count": null,
      "outputs": [
        {
          "output_type": "stream",
          "text": [
            "3.143588659585789\n"
          ],
          "name": "stdout"
        }
      ]
    },
    {
      "cell_type": "markdown",
      "metadata": {
        "id": "bS7UVyIXKfaE"
      },
      "source": [
        "### While"
      ]
    },
    {
      "cell_type": "markdown",
      "metadata": {
        "id": "WPEOSsUtKtL9"
      },
      "source": [
        "O Comando “while” a instrução ou bloco de código seguinte caso uma condição seja verdadeira. Ao terminar a execução, o comando de repetição irá verificar se a condição ainda é verdadeira. "
      ]
    },
    {
      "cell_type": "markdown",
      "metadata": {
        "id": "SR25uMYkKiNh"
      },
      "source": [
        "![while.png](data:image/png;base64,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)"
      ]
    },
    {
      "cell_type": "code",
      "metadata": {
        "id": "ZOPXo4wWKkMu"
      },
      "source": [
        "condicao = False\n",
        "while condicao:\n",
        "    # instruc. 1;\n",
        "    # instruc. 2;\n",
        "    # instruc. 3;\n",
        "    # instruc. 4;\n",
        "    pass\n",
        "# A condição \"condicao\" é falsa!"
      ],
      "execution_count": null,
      "outputs": []
    },
    {
      "cell_type": "markdown",
      "metadata": {
        "id": "CPFnIUytLiCi"
      },
      "source": [
        "Se quisermos imprimir “Olá mundo!” 10 vezes, poderíamos fazer como nos código a seguir:"
      ]
    },
    {
      "cell_type": "code",
      "metadata": {
        "id": "ZmQGmHuILiS3",
        "outputId": "f1f59c82-a794-4ba1-816f-5a569f982645",
        "colab": {
          "base_uri": "https://localhost:8080/",
          "height": 217
        }
      },
      "source": [
        "i = 0\n",
        "while i < 10:\n",
        "    print(\"Olá mundo!\", i)\n",
        "    i = i + 1\n",
        "print(\"Terminou o while, ou seja, i >= 10\")"
      ],
      "execution_count": null,
      "outputs": [
        {
          "output_type": "stream",
          "text": [
            "Olá mundo! 0\n",
            "Olá mundo! 1\n",
            "Olá mundo! 2\n",
            "Olá mundo! 3\n",
            "Olá mundo! 4\n",
            "Olá mundo! 5\n",
            "Olá mundo! 6\n",
            "Olá mundo! 7\n",
            "Olá mundo! 8\n",
            "Olá mundo! 9\n",
            "Terminou o while, ou seja, i >= 10\n"
          ],
          "name": "stdout"
        }
      ]
    },
    {
      "cell_type": "code",
      "metadata": {
        "id": "qUCWk7y1wPEQ"
      },
      "source": [
        "# Cuidado com este caso:\n",
        "# i = 0\n",
        "# while i < 10:\n",
        "#     print(\"Olá mundo!\")"
      ],
      "execution_count": null,
      "outputs": []
    },
    {
      "cell_type": "markdown",
      "metadata": {
        "id": "5e0QNmNaKhBp"
      },
      "source": [
        "### For"
      ]
    },
    {
      "cell_type": "markdown",
      "metadata": {
        "id": "KID4O4iLKvpy"
      },
      "source": [
        "O comando “for” é o comando mais complexo dos três, porque ele possibilita a inicialização de variáveis contadoras e a verificação de condições. No Python, o “for” funciona como um comando que itera sobre uma sequência, que pode ser uma lista de números ou um intervalo.\n",
        "\n",
        "Em geral, o “for” é utilizado para executar um bloco de código uma quantidade finita de vezes, ou para iterar sobre estruturas de dados. Em sua forma mais simples, ele funciona como um comando que repete durante uma quantidade finita de vezes\n"
      ]
    },
    {
      "cell_type": "markdown",
      "metadata": {
        "id": "d7lJe0eqKlKL"
      },
      "source": [
        "![for.png](data:image/png;base64,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)"
      ]
    },
    {
      "cell_type": "markdown",
      "metadata": {
        "id": "0uIzYIj0KyNo"
      },
      "source": [
        "A sintaxe do “for” em Python respeita a regra:"
      ]
    },
    {
      "cell_type": "markdown",
      "metadata": {
        "id": "dh3pQX0GK1Mo"
      },
      "source": [
        "![for2.png](data:image/png;base64,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)"
      ]
    },
    {
      "cell_type": "code",
      "metadata": {
        "id": "15KN7TA7K1k4",
        "outputId": "5a280937-9f51-4a0c-b6d4-cea21bcb62fa",
        "colab": {
          "base_uri": "https://localhost:8080/",
          "height": 199
        }
      },
      "source": [
        "for i in range(10): # Range(10) retorna o intervalo: [0,10)\n",
        "    print(i)\n",
        "    # i < x!\n",
        "    # Executa algo..."
      ],
      "execution_count": null,
      "outputs": [
        {
          "output_type": "stream",
          "text": [
            "0\n",
            "1\n",
            "2\n",
            "3\n",
            "4\n",
            "5\n",
            "6\n",
            "7\n",
            "8\n",
            "9\n"
          ],
          "name": "stdout"
        }
      ]
    },
    {
      "cell_type": "markdown",
      "metadata": {
        "id": "OEjfsUfeLsuH"
      },
      "source": [
        "O comando for do Python é muito mais abrangente. Veremos isso quando estudarmos as estruturas de dados."
      ]
    },
    {
      "cell_type": "code",
      "metadata": {
        "id": "8ZRgB6Z4Kohc",
        "outputId": "cb812243-d715-4ed5-dc96-bfb74f95568a",
        "colab": {
          "base_uri": "https://localhost:8080/",
          "height": 90
        }
      },
      "source": [
        "for el in [1,2,3,-99]:\n",
        "  print(el)"
      ],
      "execution_count": null,
      "outputs": [
        {
          "output_type": "stream",
          "text": [
            "1\n",
            "2\n",
            "3\n",
            "-99\n"
          ],
          "name": "stdout"
        }
      ]
    },
    {
      "cell_type": "markdown",
      "metadata": {
        "id": "Dro9BXGvIkYq"
      },
      "source": [
        "#### O comando `break` e `continue`\n",
        "\n",
        "O comando `break` quebra a execução de um laço de repetição. Veja:"
      ]
    },
    {
      "cell_type": "code",
      "metadata": {
        "id": "YDmOd86jIm-l",
        "outputId": "12cf151f-59c2-412d-cece-fa45e0b0e0a4",
        "colab": {
          "base_uri": "https://localhost:8080/",
          "height": 235
        }
      },
      "source": [
        "for i in range(100):\n",
        "    if (i > 50):\n",
        "        print('Interrompendo...')\n",
        "        break\n",
        "    if (i > 10):\n",
        "        continue\n",
        "    print(i)"
      ],
      "execution_count": null,
      "outputs": [
        {
          "output_type": "stream",
          "text": [
            "0\n",
            "1\n",
            "2\n",
            "3\n",
            "4\n",
            "5\n",
            "6\n",
            "7\n",
            "8\n",
            "9\n",
            "10\n",
            "Interrompendo...\n"
          ],
          "name": "stdout"
        }
      ]
    },
    {
      "cell_type": "markdown",
      "metadata": {
        "id": "zMgSkVi3Iott"
      },
      "source": [
        "Já o comando `continue`, continua para a próxima iteração."
      ]
    },
    {
      "cell_type": "code",
      "metadata": {
        "id": "TyPBLFblIpnE",
        "outputId": "349b0181-0fba-4a1e-c10d-e53695f82a30",
        "colab": {
          "base_uri": "https://localhost:8080/",
          "height": 108
        }
      },
      "source": [
        "for i in range(10):\n",
        "    if i % 2 == 0:   # Se for par, pula para a próxima iteração\n",
        "        continue\n",
        "    print(i)         # Se o continue executou, isso não será executado"
      ],
      "execution_count": null,
      "outputs": [
        {
          "output_type": "stream",
          "text": [
            "1\n",
            "3\n",
            "5\n",
            "7\n",
            "9\n"
          ],
          "name": "stdout"
        }
      ]
    },
    {
      "cell_type": "markdown",
      "metadata": {
        "id": "9yXzEIEOIq-6"
      },
      "source": [
        "Os comandos `continue` e `break` são compatíveis tanto com o `while` quanto com o `for`."
      ]
    },
    {
      "cell_type": "markdown",
      "metadata": {
        "id": "VA_zJdIFIsSJ"
      },
      "source": [
        "#### Equivalência entre `while` e `for`\n",
        "\n",
        "Quando eu digo que as duas instruções são equivalentes, quero dizer que ambas são capazes de computar as mesmas coisas. Sem entrar muito em detalhes, vou deixar um exemplo aqui para que você veja na prática o que estou falando."
      ]
    },
    {
      "cell_type": "code",
      "metadata": {
        "id": "RwmzQ2goIul-",
        "outputId": "a53c45ee-d80b-47d7-c603-77f16cd8a764",
        "colab": {
          "base_uri": "https://localhost:8080/",
          "height": 199
        }
      },
      "source": [
        "# Exemplo com while\n",
        "i = 0\n",
        "while i < 10:\n",
        "    print(i)\n",
        "    i += 1"
      ],
      "execution_count": null,
      "outputs": [
        {
          "output_type": "stream",
          "text": [
            "0\n",
            "1\n",
            "2\n",
            "3\n",
            "4\n",
            "5\n",
            "6\n",
            "7\n",
            "8\n",
            "9\n"
          ],
          "name": "stdout"
        }
      ]
    },
    {
      "cell_type": "code",
      "metadata": {
        "id": "63q9IRhEIvXs",
        "outputId": "bbda0f81-d0d7-4d48-a151-c65d932300d2",
        "colab": {
          "base_uri": "https://localhost:8080/",
          "height": 199
        }
      },
      "source": [
        "# Exemplo com for\n",
        "for i in range(10):\n",
        "    print(i)  "
      ],
      "execution_count": null,
      "outputs": [
        {
          "output_type": "stream",
          "text": [
            "0\n",
            "1\n",
            "2\n",
            "3\n",
            "4\n",
            "5\n",
            "6\n",
            "7\n",
            "8\n",
            "9\n"
          ],
          "name": "stdout"
        }
      ]
    },
    {
      "cell_type": "markdown",
      "metadata": {
        "id": "El5aMkUZIwmk"
      },
      "source": [
        "Tome um tempo para verificar os prós e contras de cada uma."
      ]
    },
    {
      "cell_type": "code",
      "metadata": {
        "id": "eFGjs8TO69oo"
      },
      "source": [
        "for i in range(10):\n",
        "    pass"
      ],
      "execution_count": null,
      "outputs": []
    },
    {
      "cell_type": "code",
      "metadata": {
        "id": "bgvz5_NL6_jM"
      },
      "source": [
        "leitura = input(\"Insira s para sair\")\n",
        "while leitura != 's':\n",
        "    print(leitura)\n",
        "    leitura = input(\"Insira s para sair\")"
      ],
      "execution_count": null,
      "outputs": []
    },
    {
      "cell_type": "markdown",
      "metadata": {
        "id": "8sx_LYyPJ9p7"
      },
      "source": [
        "**Faça um algoritmo para verificar se um número é primo**"
      ]
    },
    {
      "cell_type": "code",
      "metadata": {
        "id": "TEm-9qeV9sbo"
      },
      "source": [
        ""
      ],
      "execution_count": null,
      "outputs": []
    },
    {
      "cell_type": "markdown",
      "metadata": {
        "id": "yatLgU3OMDpN"
      },
      "source": [
        "#### Comandos de repetição aninhados (nested loops)"
      ]
    },
    {
      "cell_type": "markdown",
      "metadata": {
        "id": "6ZfVBffAMKeZ"
      },
      "source": [
        "Podemos incluir outras operações dentro dos comandos de repetição, até mesmo outros loops. Quando utilizamos loops dentro de loops, dizemos que as operações estão aninhadas.\n",
        "\n",
        "Isso faz com que para cada iteração da operação mais externa, a operação interna irá executar novamente, bem como suas iterações. "
      ]
    },
    {
      "cell_type": "code",
      "metadata": {
        "id": "ouM940cuMKAw",
        "outputId": "d187c9f6-4ceb-4ebb-f94a-1d0e9ec9ceb1",
        "colab": {
          "base_uri": "https://localhost:8080/",
          "height": 181
        }
      },
      "source": [
        "for i in range(3):\n",
        "    for j in range(3):\n",
        "        print(i, j)"
      ],
      "execution_count": null,
      "outputs": [
        {
          "output_type": "stream",
          "text": [
            "0 0\n",
            "0 1\n",
            "0 2\n",
            "1 0\n",
            "1 1\n",
            "1 2\n",
            "2 0\n",
            "2 1\n",
            "2 2\n"
          ],
          "name": "stdout"
        }
      ]
    },
    {
      "cell_type": "code",
      "metadata": {
        "id": "jV5RzDWhMbcK"
      },
      "source": [
        "rows = 6\n",
        "for num in range(rows):\n",
        "    for i in range(num):\n",
        "        print(num, end=\" \") \n",
        "    print(\" \")"
      ],
      "execution_count": null,
      "outputs": []
    },
    {
      "cell_type": "markdown",
      "metadata": {
        "id": "xCGd1_foNS_v"
      },
      "source": [
        "**Faça um algoritmo para mostrar o seguinte padrão:**\n",
        "\n",
        "\n",
        "\n",
        "```\n",
        "0 \n",
        "0 1 \n",
        "0 1 2 \n",
        "0 1 2 3 \n",
        "0 1 2 3 4 \n",
        "```\n",
        "\n"
      ]
    },
    {
      "cell_type": "code",
      "metadata": {
        "id": "oguUsR-zzGRQ"
      },
      "source": [
        ""
      ],
      "execution_count": null,
      "outputs": []
    },
    {
      "cell_type": "markdown",
      "metadata": {
        "id": "vpd6QNJDI1mI"
      },
      "source": [
        "## Desafios"
      ]
    },
    {
      "cell_type": "markdown",
      "metadata": {
        "id": "iRM_9ovyjXKK"
      },
      "source": [
        "### Crescimento Populacional"
      ]
    },
    {
      "cell_type": "markdown",
      "metadata": {
        "id": "NVhqZTURI3Bz"
      },
      "source": [
        "Dadas as informações de população e a taxa de crescimento de duas cidades quaisquer (A e B),queremos saber **quantos anos levará para que a cidade menor (sempre é a cidade A) ultrapasse a cidade B em população**. Sua tarefa é construir um programa que apresente o tempo em anos para cada caso de teste.\n",
        "\n",
        "#### Entrada\n",
        "Cada caso de teste contém 4 números: dois inteiros PA e PB (100 ≤ PA < 1000000, PA < PB ≤ 1000000) indicando respectivamente a população de A e B, e dois valores G1 e G2 (0.1 ≤ G1 ≤ 10.0, 0.0 ≤ G2 ≤ 10.0, G2 < G1) com um digito após o ponto decimal cada, indicando respectivamente o crescimento populacional de A e B (em percentual).\n",
        "\n",
        "**Atenção**: A população é sempre um valor inteiro, portanto, um crescimento de 2.5 % sobre uma população de 100 pessoas resultará em 102 pessoas, e não 102.5 pessoas, enquanto um crescimento de 2.5% sobre uma população de 1000 pessoas resultará em 1025 pessoas. Além disso, não utilize variáveis de precisão simples para as taxas de crescimento.\n",
        "\n",
        "#### Saída\n",
        "\n",
        "Imprima quantos anos levará para que a cidade A ultrapasse a cidade B em número de habitantes.\n",
        "\n",
        "| Exemplo de Entrada | Exemplo de Saída |\n",
        "|---|---|\n",
        "| 100 150 1.0 0 | 51 anos |\n",
        "| 90000 120000 5.5 3.5 | 16 anos | \n",
        "| 56700 72000 5.2 3.0 | 12 anos | \n",
        "| 100000 110000 1.5 0.5 | 10 anos |\n",
        "| 62422 484317 3.1 1.0  | 100 anos |"
      ]
    },
    {
      "cell_type": "code",
      "metadata": {
        "id": "y9tI9XosBTaV"
      },
      "source": [
        ""
      ],
      "execution_count": null,
      "outputs": []
    },
    {
      "cell_type": "markdown",
      "metadata": {
        "id": "LUXfX9iRimV8"
      },
      "source": [
        "### Produtos"
      ]
    },
    {
      "cell_type": "markdown",
      "metadata": {
        "id": "9IH60iWuigdS"
      },
      "source": [
        "**Neste problema, deve-se ler a quantidade de peças distintas. Para cada produto, leia o código de cada peça, a quantidade de cada peça e o valor unitário de cada peça. Após, calcule e mostre o valor a ser pago.**"
      ]
    },
    {
      "cell_type": "markdown",
      "metadata": {
        "id": "5K0KN2ibijhA"
      },
      "source": [
        "| Exemplo de Entrada |\tExemplo de Saída            |\n",
        "|--------------------|------------------------------| \n",
        "| 2                  |                              |\n",
        "|12 1 5.30           | VALOR A PAGAR: R\\$ 15.50     | \n",
        "|16 2 5.10           |                              | "
      ]
    },
    {
      "cell_type": "code",
      "metadata": {
        "id": "0hFZeAdK44ZH"
      },
      "source": [
        ""
      ],
      "execution_count": null,
      "outputs": []
    }
  ]
}